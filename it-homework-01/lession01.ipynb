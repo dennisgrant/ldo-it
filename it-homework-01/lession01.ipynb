{
 "cells": [
  {
   "cell_type": "markdown",
   "metadata": {},
   "source": [
    "# Python编程基础和常用模块练习题"
   ]
  },
  {
   "cell_type": "markdown",
   "metadata": {
    "collapsed": true
   },
   "source": [
    "\n",
    "## 习题1：生成器"
   ]
  },
  {
   "cell_type": "markdown",
   "metadata": {},
   "source": [
    "1.1  \n",
    "函数f(N)返回一个生成器。该生成器产生的是一个整数序列，从N开始，依次加一递增。  \n",
    "写出f(N)函数，并进行测试。请注意该生成器产生的数列长度是无穷大，在测试时需要加以控制，以免死循环。"
   ]
  },
  {
   "cell_type": "code",
   "execution_count": 1,
   "metadata": {},
   "outputs": [],
   "source": [
    "# 定义函数f(N)\n",
    "def f(N):\n",
    "    # 在此处补全代码\n",
    "    i = N\n",
    "    while(1):\n",
    "        yield(i)\n",
    "        i = i + 1"
   ]
  },
  {
   "cell_type": "code",
   "execution_count": 2,
   "metadata": {
    "scrolled": false
   },
   "outputs": [
    {
     "name": "stdout",
     "output_type": "stream",
     "text": [
      "0 10\n",
      "1 11\n",
      "2 12\n",
      "3 13\n",
      "4 14\n",
      "5 15\n",
      "6 16\n",
      "7 17\n",
      "8 18\n",
      "9 19\n",
      "10 20\n",
      "11 21\n",
      "12 22\n",
      "13 23\n",
      "14 24\n",
      "15 25\n",
      "16 26\n",
      "17 27\n",
      "18 28\n",
      "19 29\n",
      "20 30\n"
     ]
    }
   ],
   "source": [
    "# 对函数f进行测试，输出应与下面列出的一致\n",
    "for i,v in enumerate(f(10)):\n",
    "    if i>20:\n",
    "        break\n",
    "    else:\n",
    "        print(i,v)"
   ]
  },
  {
   "cell_type": "markdown",
   "metadata": {},
   "source": [
    "1.2  \n",
    "函数g(N)判断N是否为正偶数。即g(-10)返回False，g(2)返回True，g(5)返回False，g(7.5)返回False。  \n",
    "写出该函数定义，并进行测试。"
   ]
  },
  {
   "cell_type": "code",
   "execution_count": 3,
   "metadata": {},
   "outputs": [],
   "source": [
    "# 定义函数g(N)\n",
    "def g(N):\n",
    "    # 在此处补全代码\n",
    "    return N > 0 and N % 2 == 0"
   ]
  },
  {
   "cell_type": "code",
   "execution_count": 4,
   "metadata": {
    "scrolled": true
   },
   "outputs": [
    {
     "data": {
      "text/plain": [
       "(False, True, False, False)"
      ]
     },
     "execution_count": 4,
     "metadata": {},
     "output_type": "execute_result"
    }
   ],
   "source": [
    "# 对函数g进行测试，返回结果应为“(False, True, False, False)”\n",
    "g(-10), g(2), g(5), g(7.5)"
   ]
  },
  {
   "cell_type": "markdown",
   "metadata": {},
   "source": [
    "1.3  \n",
    "函数h(G,P)返回一个生成器，参数G是一个生成器或者列表，P是判断条件，h返回的是G产生的序列中符合P判断为True的序列。  \n",
    "写出h的定义，并利用1.1和1.2定义的f和g作为G和P来测试h。"
   ]
  },
  {
   "cell_type": "code",
   "execution_count": 5,
   "metadata": {},
   "outputs": [],
   "source": [
    "# 定义函数h(G,P)\n",
    "def h(G,P):\n",
    "    # 在此处补全代码\n",
    "    for i in G:\n",
    "        if P(i) :\n",
    "            yield(i)"
   ]
  },
  {
   "cell_type": "code",
   "execution_count": 6,
   "metadata": {},
   "outputs": [
    {
     "name": "stdout",
     "output_type": "stream",
     "text": [
      "0 2\n",
      "1 4\n",
      "2 6\n",
      "3 8\n",
      "4 10\n",
      "5 12\n",
      "6 14\n",
      "7 16\n",
      "8 18\n",
      "9 20\n",
      "10 22\n"
     ]
    }
   ],
   "source": [
    "# 对函数h进行测试，运行结果应该如下面代码的输出\n",
    "for i,v in enumerate(h(f(-5),g)):\n",
    "    if i>10:\n",
    "        break\n",
    "    else:\n",
    "        print(i,v)"
   ]
  },
  {
   "cell_type": "markdown",
   "metadata": {},
   "source": [
    "1.4 特殊用途的生成器举例"
   ]
  },
  {
   "cell_type": "code",
   "execution_count": 7,
   "metadata": {},
   "outputs": [],
   "source": [
    "# 下面的这个生成器可以产生差分序列，也就是将输入序列前后两个值之差构成的数列返回。\n",
    "# 学习并掌握这种生成器的编程方法，并使用不同的列表和生成器作为输入进行测试。\n",
    "\n",
    "def difference_generator(sequence):\n",
    "    init_flag=True\n",
    "    last_value=0\n",
    "    for item in sequence:\n",
    "        if init_flag:\n",
    "            last_value=item\n",
    "            init_flag=False\n",
    "        else:\n",
    "            diff=item-last_value\n",
    "            last_value=item\n",
    "            yield(diff)\n",
    "def difference_generator2(sequence):\n",
    "    if( len(sequence) < 2 ) :\n",
    "        return;\n",
    "    pre_value = sequence[0]\n",
    "    for item in sequence[1:]:\n",
    "        diff = item - pre_value\n",
    "        pre_value = item\n",
    "        yield(diff)            "
   ]
  },
  {
   "cell_type": "code",
   "execution_count": 8,
   "metadata": {
    "scrolled": true
   },
   "outputs": [
    {
     "name": "stdout",
     "output_type": "stream",
     "text": [
      "1\n",
      "2\n",
      "-1\n",
      "-2\n",
      "1\n",
      "2\n",
      "-2\n",
      "-1\n"
     ]
    }
   ],
   "source": [
    "a=[1,2,4,3,1,2,4,2,1]\n",
    "for v in difference_generator(a):\n",
    "    print(v)"
   ]
  },
  {
   "cell_type": "code",
   "execution_count": 9,
   "metadata": {
    "scrolled": false
   },
   "outputs": [
    {
     "name": "stdout",
     "output_type": "stream",
     "text": [
      "3\n",
      "3\n",
      "3\n",
      "3\n",
      "3\n",
      "3\n"
     ]
    }
   ],
   "source": [
    "for v in difference_generator(range(0,20,3)):\n",
    "    print(v)"
   ]
  },
  {
   "cell_type": "code",
   "execution_count": null,
   "metadata": {},
   "outputs": [],
   "source": []
  },
  {
   "cell_type": "markdown",
   "metadata": {
    "collapsed": true
   },
   "source": [
    "## 习题2：列表、字典、CSV、JSON文件操作"
   ]
  },
  {
   "cell_type": "markdown",
   "metadata": {},
   "source": [
    "2.1  \n",
    "从CSV文件“data/wtr.csv”中读取数据记录。  \n",
    "将表头部分放在列表field_name_list中，结果应为“['personal_id', 'name', 'month', 'working_days']”  \n",
    "将数据部分放在列表record_list中，结果类似于：[['1000', 'zhao', '1', '17'], ['1000', 'zhao', '2', '16'], ...... ['1007', 'wang', '11', '20'], ['1007', 'wang', '12', '21']]"
   ]
  },
  {
   "cell_type": "code",
   "execution_count": 10,
   "metadata": {},
   "outputs": [],
   "source": [
    "import os\n",
    "import csv"
   ]
  },
  {
   "cell_type": "code",
   "execution_count": 11,
   "metadata": {},
   "outputs": [],
   "source": [
    "DATA_DIR='data'\n",
    "csv_file='wtr.csv'"
   ]
  },
  {
   "cell_type": "code",
   "execution_count": 12,
   "metadata": {},
   "outputs": [
    {
     "data": {
      "text/plain": [
       "'data/wtr.csv'"
      ]
     },
     "execution_count": 12,
     "metadata": {},
     "output_type": "execute_result"
    }
   ],
   "source": [
    "csv_filename=os.path.join(DATA_DIR,csv_file)\n",
    "csv_filename"
   ]
  },
  {
   "cell_type": "code",
   "execution_count": 13,
   "metadata": {},
   "outputs": [],
   "source": [
    "# 在此处补全代码\n",
    "# 将表头部分放在列表field_name_list中\n",
    "# 将数据部分放在列表record_lis\n",
    "with open(csv_filename) as f :\n",
    "    f_csv = csv.reader( f )\n",
    "    cur_line = 0\n",
    "    field_name_list = []\n",
    "    record_list = []\n",
    "    for row in f_csv:\n",
    "        if( 0 == cur_line):\n",
    "            field_name_list = row\n",
    "        else :\n",
    "            record_list.append(row)\n",
    "        cur_line = cur_line + 1 \n",
    "        "
   ]
  },
  {
   "cell_type": "code",
   "execution_count": 14,
   "metadata": {},
   "outputs": [
    {
     "data": {
      "text/plain": [
       "['personal_id', 'name', 'month', 'working_days']"
      ]
     },
     "execution_count": 14,
     "metadata": {},
     "output_type": "execute_result"
    }
   ],
   "source": [
    "field_name_list"
   ]
  },
  {
   "cell_type": "code",
   "execution_count": 15,
   "metadata": {
    "scrolled": false
   },
   "outputs": [
    {
     "data": {
      "text/plain": [
       "[['1000', 'zhao', '1', '17'],\n",
       " ['1000', 'zhao', '2', '16'],\n",
       " ['1000', 'zhao', '3', '18'],\n",
       " ['1000', 'zhao', '4', '21'],\n",
       " ['1000', 'zhao', '5', '17'],\n",
       " ['1000', 'zhao', '6', '18'],\n",
       " ['1000', 'zhao', '7', '17'],\n",
       " ['1000', 'zhao', '8', '20'],\n",
       " ['1000', 'zhao', '9', '17'],\n",
       " ['1000', 'zhao', '10', '21'],\n",
       " ['1000', 'zhao', '11', '16'],\n",
       " ['1000', 'zhao', '12', '17'],\n",
       " ['1001', 'qian', '1', '19'],\n",
       " ['1001', 'qian', '2', '17'],\n",
       " ['1001', 'qian', '3', '21'],\n",
       " ['1001', 'qian', '4', '20'],\n",
       " ['1001', 'qian', '5', '17'],\n",
       " ['1001', 'qian', '6', '19'],\n",
       " ['1001', 'qian', '7', '22'],\n",
       " ['1001', 'qian', '8', '20'],\n",
       " ['1001', 'qian', '9', '18'],\n",
       " ['1001', 'qian', '10', '16'],\n",
       " ['1001', 'qian', '11', '19'],\n",
       " ['1001', 'qian', '12', '17'],\n",
       " ['1002', 'sun', '1', '17'],\n",
       " ['1002', 'sun', '2', '19'],\n",
       " ['1002', 'sun', '3', '20'],\n",
       " ['1002', 'sun', '4', '17'],\n",
       " ['1002', 'sun', '5', '22'],\n",
       " ['1002', 'sun', '6', '18'],\n",
       " ['1002', 'sun', '7', '22'],\n",
       " ['1002', 'sun', '8', '19'],\n",
       " ['1002', 'sun', '9', '19'],\n",
       " ['1002', 'sun', '10', '22'],\n",
       " ['1002', 'sun', '11', '17'],\n",
       " ['1002', 'sun', '12', '19'],\n",
       " ['1003', 'li', '1', '18'],\n",
       " ['1003', 'li', '2', '22'],\n",
       " ['1003', 'li', '3', '20'],\n",
       " ['1003', 'li', '4', '19'],\n",
       " ['1003', 'li', '5', '16'],\n",
       " ['1003', 'li', '6', '17'],\n",
       " ['1003', 'li', '7', '20'],\n",
       " ['1003', 'li', '8', '18'],\n",
       " ['1003', 'li', '9', '18'],\n",
       " ['1003', 'li', '10', '19'],\n",
       " ['1003', 'li', '11', '19'],\n",
       " ['1003', 'li', '12', '17'],\n",
       " ['1004', 'zhou', '1', '18'],\n",
       " ['1004', 'zhou', '2', '21'],\n",
       " ['1004', 'zhou', '3', '22'],\n",
       " ['1004', 'zhou', '4', '17'],\n",
       " ['1004', 'zhou', '5', '19'],\n",
       " ['1004', 'zhou', '6', '18'],\n",
       " ['1004', 'zhou', '7', '20'],\n",
       " ['1004', 'zhou', '8', '16'],\n",
       " ['1004', 'zhou', '9', '19'],\n",
       " ['1004', 'zhou', '10', '21'],\n",
       " ['1004', 'zhou', '11', '20'],\n",
       " ['1004', 'zhou', '12', '17'],\n",
       " ['1005', 'wu', '1', '17'],\n",
       " ['1005', 'wu', '2', '20'],\n",
       " ['1005', 'wu', '3', '17'],\n",
       " ['1005', 'wu', '4', '19'],\n",
       " ['1005', 'wu', '5', '22'],\n",
       " ['1005', 'wu', '6', '21'],\n",
       " ['1005', 'wu', '7', '19'],\n",
       " ['1005', 'wu', '8', '16'],\n",
       " ['1005', 'wu', '9', '16'],\n",
       " ['1005', 'wu', '10', '21'],\n",
       " ['1005', 'wu', '11', '16'],\n",
       " ['1005', 'wu', '12', '22'],\n",
       " ['1006', 'zheng', '1', '16'],\n",
       " ['1006', 'zheng', '2', '21'],\n",
       " ['1006', 'zheng', '3', '22'],\n",
       " ['1006', 'zheng', '4', '20'],\n",
       " ['1006', 'zheng', '5', '19'],\n",
       " ['1006', 'zheng', '6', '20'],\n",
       " ['1006', 'zheng', '7', '20'],\n",
       " ['1006', 'zheng', '8', '22'],\n",
       " ['1006', 'zheng', '9', '17'],\n",
       " ['1006', 'zheng', '10', '21'],\n",
       " ['1006', 'zheng', '11', '17'],\n",
       " ['1006', 'zheng', '12', '20'],\n",
       " ['1007', 'wang', '1', '18'],\n",
       " ['1007', 'wang', '2', '20'],\n",
       " ['1007', 'wang', '3', '21'],\n",
       " ['1007', 'wang', '4', '20'],\n",
       " ['1007', 'wang', '5', '17'],\n",
       " ['1007', 'wang', '6', '17'],\n",
       " ['1007', 'wang', '7', '22'],\n",
       " ['1007', 'wang', '8', '19'],\n",
       " ['1007', 'wang', '9', '21'],\n",
       " ['1007', 'wang', '10', '20'],\n",
       " ['1007', 'wang', '11', '20'],\n",
       " ['1007', 'wang', '12', '21']]"
      ]
     },
     "execution_count": 15,
     "metadata": {},
     "output_type": "execute_result"
    }
   ],
   "source": [
    "record_list"
   ]
  },
  {
   "cell_type": "markdown",
   "metadata": {},
   "source": [
    "2.2  \n",
    "编写函数将数据记录中的类型进行转换：  \n",
    "personal_id ：整数  \n",
    "name        ：字符串  \n",
    "month       ：整数  \n",
    "working_days：整数  "
   ]
  },
  {
   "cell_type": "code",
   "execution_count": 16,
   "metadata": {},
   "outputs": [],
   "source": [
    "field_type_dict={'personal_id':'int',\n",
    "                 'name':'string',\n",
    "                 'month':'int',\n",
    "                 'working_days':'int'}\n",
    "\n",
    "convertion_dict={'int': lambda x: int(x),\n",
    "                 'string': lambda x: str(x)}\n",
    "\n",
    "def convert_value(value,type):\n",
    "    return convertion_dict[type](value)\n",
    "\n",
    "def convert_record_type(record,fieldname_list):\n",
    "    # 在此处补全代码\n",
    "    # 返回值类型转换后的数据记录\n",
    "    return [ convert_value(v, field_type_dict[attr]) for (attr,v) in dict(zip(fieldname_list, record)).items() ]\n"
   ]
  },
  {
   "cell_type": "code",
   "execution_count": 17,
   "metadata": {},
   "outputs": [
    {
     "data": {
      "text/plain": [
       "[1000, 'zhao', 1, 17]"
      ]
     },
     "execution_count": 17,
     "metadata": {},
     "output_type": "execute_result"
    }
   ],
   "source": [
    "convert_record_type(record_list[0],field_name_list)"
   ]
  },
  {
   "cell_type": "code",
   "execution_count": 18,
   "metadata": {
    "scrolled": true
   },
   "outputs": [
    {
     "data": {
      "text/plain": [
       "[[1000, 'zhao', 1, 17],\n",
       " [1000, 'zhao', 2, 16],\n",
       " [1000, 'zhao', 3, 18],\n",
       " [1000, 'zhao', 4, 21],\n",
       " [1000, 'zhao', 5, 17],\n",
       " [1000, 'zhao', 6, 18],\n",
       " [1000, 'zhao', 7, 17],\n",
       " [1000, 'zhao', 8, 20],\n",
       " [1000, 'zhao', 9, 17],\n",
       " [1000, 'zhao', 10, 21],\n",
       " [1000, 'zhao', 11, 16],\n",
       " [1000, 'zhao', 12, 17],\n",
       " [1001, 'qian', 1, 19],\n",
       " [1001, 'qian', 2, 17],\n",
       " [1001, 'qian', 3, 21],\n",
       " [1001, 'qian', 4, 20],\n",
       " [1001, 'qian', 5, 17],\n",
       " [1001, 'qian', 6, 19],\n",
       " [1001, 'qian', 7, 22],\n",
       " [1001, 'qian', 8, 20],\n",
       " [1001, 'qian', 9, 18],\n",
       " [1001, 'qian', 10, 16],\n",
       " [1001, 'qian', 11, 19],\n",
       " [1001, 'qian', 12, 17],\n",
       " [1002, 'sun', 1, 17],\n",
       " [1002, 'sun', 2, 19],\n",
       " [1002, 'sun', 3, 20],\n",
       " [1002, 'sun', 4, 17],\n",
       " [1002, 'sun', 5, 22],\n",
       " [1002, 'sun', 6, 18],\n",
       " [1002, 'sun', 7, 22],\n",
       " [1002, 'sun', 8, 19],\n",
       " [1002, 'sun', 9, 19],\n",
       " [1002, 'sun', 10, 22],\n",
       " [1002, 'sun', 11, 17],\n",
       " [1002, 'sun', 12, 19],\n",
       " [1003, 'li', 1, 18],\n",
       " [1003, 'li', 2, 22],\n",
       " [1003, 'li', 3, 20],\n",
       " [1003, 'li', 4, 19],\n",
       " [1003, 'li', 5, 16],\n",
       " [1003, 'li', 6, 17],\n",
       " [1003, 'li', 7, 20],\n",
       " [1003, 'li', 8, 18],\n",
       " [1003, 'li', 9, 18],\n",
       " [1003, 'li', 10, 19],\n",
       " [1003, 'li', 11, 19],\n",
       " [1003, 'li', 12, 17],\n",
       " [1004, 'zhou', 1, 18],\n",
       " [1004, 'zhou', 2, 21],\n",
       " [1004, 'zhou', 3, 22],\n",
       " [1004, 'zhou', 4, 17],\n",
       " [1004, 'zhou', 5, 19],\n",
       " [1004, 'zhou', 6, 18],\n",
       " [1004, 'zhou', 7, 20],\n",
       " [1004, 'zhou', 8, 16],\n",
       " [1004, 'zhou', 9, 19],\n",
       " [1004, 'zhou', 10, 21],\n",
       " [1004, 'zhou', 11, 20],\n",
       " [1004, 'zhou', 12, 17],\n",
       " [1005, 'wu', 1, 17],\n",
       " [1005, 'wu', 2, 20],\n",
       " [1005, 'wu', 3, 17],\n",
       " [1005, 'wu', 4, 19],\n",
       " [1005, 'wu', 5, 22],\n",
       " [1005, 'wu', 6, 21],\n",
       " [1005, 'wu', 7, 19],\n",
       " [1005, 'wu', 8, 16],\n",
       " [1005, 'wu', 9, 16],\n",
       " [1005, 'wu', 10, 21],\n",
       " [1005, 'wu', 11, 16],\n",
       " [1005, 'wu', 12, 22],\n",
       " [1006, 'zheng', 1, 16],\n",
       " [1006, 'zheng', 2, 21],\n",
       " [1006, 'zheng', 3, 22],\n",
       " [1006, 'zheng', 4, 20],\n",
       " [1006, 'zheng', 5, 19],\n",
       " [1006, 'zheng', 6, 20],\n",
       " [1006, 'zheng', 7, 20],\n",
       " [1006, 'zheng', 8, 22],\n",
       " [1006, 'zheng', 9, 17],\n",
       " [1006, 'zheng', 10, 21],\n",
       " [1006, 'zheng', 11, 17],\n",
       " [1006, 'zheng', 12, 20],\n",
       " [1007, 'wang', 1, 18],\n",
       " [1007, 'wang', 2, 20],\n",
       " [1007, 'wang', 3, 21],\n",
       " [1007, 'wang', 4, 20],\n",
       " [1007, 'wang', 5, 17],\n",
       " [1007, 'wang', 6, 17],\n",
       " [1007, 'wang', 7, 22],\n",
       " [1007, 'wang', 8, 19],\n",
       " [1007, 'wang', 9, 21],\n",
       " [1007, 'wang', 10, 20],\n",
       " [1007, 'wang', 11, 20],\n",
       " [1007, 'wang', 12, 21]]"
      ]
     },
     "execution_count": 18,
     "metadata": {},
     "output_type": "execute_result"
    }
   ],
   "source": [
    "[convert_record_type(i, field_name_list) for i in record_list ]# 在此处补全代码，使用list comprehension方式将所有记录进行转换，生成的结果应与下面的output一致"
   ]
  },
  {
   "cell_type": "code",
   "execution_count": 19,
   "metadata": {},
   "outputs": [],
   "source": [
    "new_record_list=[convert_record_type(i, field_name_list) for i in record_list ]# 在此处补全代码，使用list comprehension方式将所有记录进行转换（跟上面的cell内容一致即可）"
   ]
  },
  {
   "cell_type": "code",
   "execution_count": 20,
   "metadata": {
    "scrolled": true
   },
   "outputs": [
    {
     "data": {
      "text/plain": [
       "[[1000, 'zhao', 1, 17],\n",
       " [1000, 'zhao', 2, 16],\n",
       " [1000, 'zhao', 3, 18],\n",
       " [1000, 'zhao', 4, 21],\n",
       " [1000, 'zhao', 5, 17],\n",
       " [1000, 'zhao', 6, 18],\n",
       " [1000, 'zhao', 7, 17],\n",
       " [1000, 'zhao', 8, 20],\n",
       " [1000, 'zhao', 9, 17],\n",
       " [1000, 'zhao', 10, 21],\n",
       " [1000, 'zhao', 11, 16],\n",
       " [1000, 'zhao', 12, 17],\n",
       " [1001, 'qian', 1, 19],\n",
       " [1001, 'qian', 2, 17],\n",
       " [1001, 'qian', 3, 21],\n",
       " [1001, 'qian', 4, 20],\n",
       " [1001, 'qian', 5, 17],\n",
       " [1001, 'qian', 6, 19],\n",
       " [1001, 'qian', 7, 22],\n",
       " [1001, 'qian', 8, 20],\n",
       " [1001, 'qian', 9, 18],\n",
       " [1001, 'qian', 10, 16],\n",
       " [1001, 'qian', 11, 19],\n",
       " [1001, 'qian', 12, 17],\n",
       " [1002, 'sun', 1, 17],\n",
       " [1002, 'sun', 2, 19],\n",
       " [1002, 'sun', 3, 20],\n",
       " [1002, 'sun', 4, 17],\n",
       " [1002, 'sun', 5, 22],\n",
       " [1002, 'sun', 6, 18],\n",
       " [1002, 'sun', 7, 22],\n",
       " [1002, 'sun', 8, 19],\n",
       " [1002, 'sun', 9, 19],\n",
       " [1002, 'sun', 10, 22],\n",
       " [1002, 'sun', 11, 17],\n",
       " [1002, 'sun', 12, 19],\n",
       " [1003, 'li', 1, 18],\n",
       " [1003, 'li', 2, 22],\n",
       " [1003, 'li', 3, 20],\n",
       " [1003, 'li', 4, 19],\n",
       " [1003, 'li', 5, 16],\n",
       " [1003, 'li', 6, 17],\n",
       " [1003, 'li', 7, 20],\n",
       " [1003, 'li', 8, 18],\n",
       " [1003, 'li', 9, 18],\n",
       " [1003, 'li', 10, 19],\n",
       " [1003, 'li', 11, 19],\n",
       " [1003, 'li', 12, 17],\n",
       " [1004, 'zhou', 1, 18],\n",
       " [1004, 'zhou', 2, 21],\n",
       " [1004, 'zhou', 3, 22],\n",
       " [1004, 'zhou', 4, 17],\n",
       " [1004, 'zhou', 5, 19],\n",
       " [1004, 'zhou', 6, 18],\n",
       " [1004, 'zhou', 7, 20],\n",
       " [1004, 'zhou', 8, 16],\n",
       " [1004, 'zhou', 9, 19],\n",
       " [1004, 'zhou', 10, 21],\n",
       " [1004, 'zhou', 11, 20],\n",
       " [1004, 'zhou', 12, 17],\n",
       " [1005, 'wu', 1, 17],\n",
       " [1005, 'wu', 2, 20],\n",
       " [1005, 'wu', 3, 17],\n",
       " [1005, 'wu', 4, 19],\n",
       " [1005, 'wu', 5, 22],\n",
       " [1005, 'wu', 6, 21],\n",
       " [1005, 'wu', 7, 19],\n",
       " [1005, 'wu', 8, 16],\n",
       " [1005, 'wu', 9, 16],\n",
       " [1005, 'wu', 10, 21],\n",
       " [1005, 'wu', 11, 16],\n",
       " [1005, 'wu', 12, 22],\n",
       " [1006, 'zheng', 1, 16],\n",
       " [1006, 'zheng', 2, 21],\n",
       " [1006, 'zheng', 3, 22],\n",
       " [1006, 'zheng', 4, 20],\n",
       " [1006, 'zheng', 5, 19],\n",
       " [1006, 'zheng', 6, 20],\n",
       " [1006, 'zheng', 7, 20],\n",
       " [1006, 'zheng', 8, 22],\n",
       " [1006, 'zheng', 9, 17],\n",
       " [1006, 'zheng', 10, 21],\n",
       " [1006, 'zheng', 11, 17],\n",
       " [1006, 'zheng', 12, 20],\n",
       " [1007, 'wang', 1, 18],\n",
       " [1007, 'wang', 2, 20],\n",
       " [1007, 'wang', 3, 21],\n",
       " [1007, 'wang', 4, 20],\n",
       " [1007, 'wang', 5, 17],\n",
       " [1007, 'wang', 6, 17],\n",
       " [1007, 'wang', 7, 22],\n",
       " [1007, 'wang', 8, 19],\n",
       " [1007, 'wang', 9, 21],\n",
       " [1007, 'wang', 10, 20],\n",
       " [1007, 'wang', 11, 20],\n",
       " [1007, 'wang', 12, 21]]"
      ]
     },
     "execution_count": 20,
     "metadata": {},
     "output_type": "execute_result"
    }
   ],
   "source": [
    "new_record_list"
   ]
  },
  {
   "cell_type": "markdown",
   "metadata": {},
   "source": [
    "2.3  \n",
    "编写函数将上一步输出的数据列表转换成为字典形式：  \n",
    "{personal_id_1: {'name': name_01, 'wtr': {1:21,2:19,......,12:20}},  \n",
    " personal_id_2: {'name': name_02, 'wtr': {1:20,2:18,......,12:22}},  \n",
    " ......  \n",
    " personal_id_N: {'name': name_05, 'wtr': {1:21,2:19,......,12:20}}}  "
   ]
  },
  {
   "cell_type": "code",
   "execution_count": 21,
   "metadata": {},
   "outputs": [],
   "source": [
    "# 编写数据格式转换函数convert_record_list_to_dict\n",
    "def get_personal_id(record):\n",
    "    return record[0]\n",
    "\n",
    "def get_name(record):\n",
    "    return record[1]\n",
    "\n",
    "def get_month(record):\n",
    "    return record[2]\n",
    "\n",
    "def get_workdays(record):\n",
    "    return record[3]\n",
    "\n",
    "def convert_record_list_to_dict(record_list):\n",
    "    dict0=dict()\n",
    "    \n",
    "    # 在此处补全代码   \n",
    "    for record in record_list :\n",
    "        \n",
    "        person_id = get_personal_id(record) \n",
    "        name = get_name(record)\n",
    "        month = get_month(record)\n",
    "        workdays = get_workdays(record)\n",
    "        \n",
    "        if person_id in dict0 :\n",
    "            dict0[person_id]['wtr'][month] = workdays\n",
    "        else :\n",
    "            dict0[person_id] = {'name':name, 'wtr':{month:workdays}}\n",
    "    \n",
    "    return dict0"
   ]
  },
  {
   "cell_type": "code",
   "execution_count": 22,
   "metadata": {
    "scrolled": true
   },
   "outputs": [
    {
     "data": {
      "text/plain": [
       "{1000: {'name': 'zhao',\n",
       "  'wtr': {1: 17,\n",
       "   2: 16,\n",
       "   3: 18,\n",
       "   4: 21,\n",
       "   5: 17,\n",
       "   6: 18,\n",
       "   7: 17,\n",
       "   8: 20,\n",
       "   9: 17,\n",
       "   10: 21,\n",
       "   11: 16,\n",
       "   12: 17}},\n",
       " 1001: {'name': 'qian',\n",
       "  'wtr': {1: 19,\n",
       "   2: 17,\n",
       "   3: 21,\n",
       "   4: 20,\n",
       "   5: 17,\n",
       "   6: 19,\n",
       "   7: 22,\n",
       "   8: 20,\n",
       "   9: 18,\n",
       "   10: 16,\n",
       "   11: 19,\n",
       "   12: 17}},\n",
       " 1002: {'name': 'sun',\n",
       "  'wtr': {1: 17,\n",
       "   2: 19,\n",
       "   3: 20,\n",
       "   4: 17,\n",
       "   5: 22,\n",
       "   6: 18,\n",
       "   7: 22,\n",
       "   8: 19,\n",
       "   9: 19,\n",
       "   10: 22,\n",
       "   11: 17,\n",
       "   12: 19}},\n",
       " 1003: {'name': 'li',\n",
       "  'wtr': {1: 18,\n",
       "   2: 22,\n",
       "   3: 20,\n",
       "   4: 19,\n",
       "   5: 16,\n",
       "   6: 17,\n",
       "   7: 20,\n",
       "   8: 18,\n",
       "   9: 18,\n",
       "   10: 19,\n",
       "   11: 19,\n",
       "   12: 17}},\n",
       " 1004: {'name': 'zhou',\n",
       "  'wtr': {1: 18,\n",
       "   2: 21,\n",
       "   3: 22,\n",
       "   4: 17,\n",
       "   5: 19,\n",
       "   6: 18,\n",
       "   7: 20,\n",
       "   8: 16,\n",
       "   9: 19,\n",
       "   10: 21,\n",
       "   11: 20,\n",
       "   12: 17}},\n",
       " 1005: {'name': 'wu',\n",
       "  'wtr': {1: 17,\n",
       "   2: 20,\n",
       "   3: 17,\n",
       "   4: 19,\n",
       "   5: 22,\n",
       "   6: 21,\n",
       "   7: 19,\n",
       "   8: 16,\n",
       "   9: 16,\n",
       "   10: 21,\n",
       "   11: 16,\n",
       "   12: 22}},\n",
       " 1006: {'name': 'zheng',\n",
       "  'wtr': {1: 16,\n",
       "   2: 21,\n",
       "   3: 22,\n",
       "   4: 20,\n",
       "   5: 19,\n",
       "   6: 20,\n",
       "   7: 20,\n",
       "   8: 22,\n",
       "   9: 17,\n",
       "   10: 21,\n",
       "   11: 17,\n",
       "   12: 20}},\n",
       " 1007: {'name': 'wang',\n",
       "  'wtr': {1: 18,\n",
       "   2: 20,\n",
       "   3: 21,\n",
       "   4: 20,\n",
       "   5: 17,\n",
       "   6: 17,\n",
       "   7: 22,\n",
       "   8: 19,\n",
       "   9: 21,\n",
       "   10: 20,\n",
       "   11: 20,\n",
       "   12: 21}}}"
      ]
     },
     "execution_count": 22,
     "metadata": {},
     "output_type": "execute_result"
    }
   ],
   "source": [
    "# 对函数convert_record_list_to_dict进行测试\n",
    "convert_record_list_to_dict(new_record_list)"
   ]
  },
  {
   "cell_type": "code",
   "execution_count": 23,
   "metadata": {},
   "outputs": [],
   "source": [
    "record_dict=convert_record_list_to_dict(new_record_list)"
   ]
  },
  {
   "cell_type": "code",
   "execution_count": 24,
   "metadata": {},
   "outputs": [
    {
     "name": "stdout",
     "output_type": "stream",
     "text": [
      "{1000: {'name': 'zhao', 'wtr': {1: 17, 2: 16, 3: 18, 4: 21, 5: 17, 6: 18, 7: 17, 8: 20, 9: 17, 10: 21, 11: 16, 12: 17}}, 1001: {'name': 'qian', 'wtr': {1: 19, 2: 17, 3: 21, 4: 20, 5: 17, 6: 19, 7: 22, 8: 20, 9: 18, 10: 16, 11: 19, 12: 17}}, 1002: {'name': 'sun', 'wtr': {1: 17, 2: 19, 3: 20, 4: 17, 5: 22, 6: 18, 7: 22, 8: 19, 9: 19, 10: 22, 11: 17, 12: 19}}, 1003: {'name': 'li', 'wtr': {1: 18, 2: 22, 3: 20, 4: 19, 5: 16, 6: 17, 7: 20, 8: 18, 9: 18, 10: 19, 11: 19, 12: 17}}, 1004: {'name': 'zhou', 'wtr': {1: 18, 2: 21, 3: 22, 4: 17, 5: 19, 6: 18, 7: 20, 8: 16, 9: 19, 10: 21, 11: 20, 12: 17}}, 1005: {'name': 'wu', 'wtr': {1: 17, 2: 20, 3: 17, 4: 19, 5: 22, 6: 21, 7: 19, 8: 16, 9: 16, 10: 21, 11: 16, 12: 22}}, 1006: {'name': 'zheng', 'wtr': {1: 16, 2: 21, 3: 22, 4: 20, 5: 19, 6: 20, 7: 20, 8: 22, 9: 17, 10: 21, 11: 17, 12: 20}}, 1007: {'name': 'wang', 'wtr': {1: 18, 2: 20, 3: 21, 4: 20, 5: 17, 6: 17, 7: 22, 8: 19, 9: 21, 10: 20, 11: 20, 12: 21}}}\n"
     ]
    }
   ],
   "source": [
    "print(record_dict)"
   ]
  },
  {
   "cell_type": "markdown",
   "metadata": {},
   "source": [
    "用pprint将数据集格式化打印"
   ]
  },
  {
   "cell_type": "code",
   "execution_count": 25,
   "metadata": {},
   "outputs": [],
   "source": [
    "from pprint import pprint"
   ]
  },
  {
   "cell_type": "code",
   "execution_count": 26,
   "metadata": {
    "scrolled": true
   },
   "outputs": [
    {
     "name": "stdout",
     "output_type": "stream",
     "text": [
      "{   1000: {   'name': 'zhao',\n",
      "              'wtr': {   1: 17,\n",
      "                         2: 16,\n",
      "                         3: 18,\n",
      "                         4: 21,\n",
      "                         5: 17,\n",
      "                         6: 18,\n",
      "                         7: 17,\n",
      "                         8: 20,\n",
      "                         9: 17,\n",
      "                         10: 21,\n",
      "                         11: 16,\n",
      "                         12: 17}},\n",
      "    1001: {   'name': 'qian',\n",
      "              'wtr': {   1: 19,\n",
      "                         2: 17,\n",
      "                         3: 21,\n",
      "                         4: 20,\n",
      "                         5: 17,\n",
      "                         6: 19,\n",
      "                         7: 22,\n",
      "                         8: 20,\n",
      "                         9: 18,\n",
      "                         10: 16,\n",
      "                         11: 19,\n",
      "                         12: 17}},\n",
      "    1002: {   'name': 'sun',\n",
      "              'wtr': {   1: 17,\n",
      "                         2: 19,\n",
      "                         3: 20,\n",
      "                         4: 17,\n",
      "                         5: 22,\n",
      "                         6: 18,\n",
      "                         7: 22,\n",
      "                         8: 19,\n",
      "                         9: 19,\n",
      "                         10: 22,\n",
      "                         11: 17,\n",
      "                         12: 19}},\n",
      "    1003: {   'name': 'li',\n",
      "              'wtr': {   1: 18,\n",
      "                         2: 22,\n",
      "                         3: 20,\n",
      "                         4: 19,\n",
      "                         5: 16,\n",
      "                         6: 17,\n",
      "                         7: 20,\n",
      "                         8: 18,\n",
      "                         9: 18,\n",
      "                         10: 19,\n",
      "                         11: 19,\n",
      "                         12: 17}},\n",
      "    1004: {   'name': 'zhou',\n",
      "              'wtr': {   1: 18,\n",
      "                         2: 21,\n",
      "                         3: 22,\n",
      "                         4: 17,\n",
      "                         5: 19,\n",
      "                         6: 18,\n",
      "                         7: 20,\n",
      "                         8: 16,\n",
      "                         9: 19,\n",
      "                         10: 21,\n",
      "                         11: 20,\n",
      "                         12: 17}},\n",
      "    1005: {   'name': 'wu',\n",
      "              'wtr': {   1: 17,\n",
      "                         2: 20,\n",
      "                         3: 17,\n",
      "                         4: 19,\n",
      "                         5: 22,\n",
      "                         6: 21,\n",
      "                         7: 19,\n",
      "                         8: 16,\n",
      "                         9: 16,\n",
      "                         10: 21,\n",
      "                         11: 16,\n",
      "                         12: 22}},\n",
      "    1006: {   'name': 'zheng',\n",
      "              'wtr': {   1: 16,\n",
      "                         2: 21,\n",
      "                         3: 22,\n",
      "                         4: 20,\n",
      "                         5: 19,\n",
      "                         6: 20,\n",
      "                         7: 20,\n",
      "                         8: 22,\n",
      "                         9: 17,\n",
      "                         10: 21,\n",
      "                         11: 17,\n",
      "                         12: 20}},\n",
      "    1007: {   'name': 'wang',\n",
      "              'wtr': {   1: 18,\n",
      "                         2: 20,\n",
      "                         3: 21,\n",
      "                         4: 20,\n",
      "                         5: 17,\n",
      "                         6: 17,\n",
      "                         7: 22,\n",
      "                         8: 19,\n",
      "                         9: 21,\n",
      "                         10: 20,\n",
      "                         11: 20,\n",
      "                         12: 21}}}\n"
     ]
    }
   ],
   "source": [
    "pprint(record_dict,indent=4)"
   ]
  },
  {
   "cell_type": "code",
   "execution_count": 102,
   "metadata": {},
   "outputs": [
    {
     "data": {
      "text/plain": [
       "('zhao',\n",
       " {1: 17,\n",
       "  2: 16,\n",
       "  3: 18,\n",
       "  4: 21,\n",
       "  5: 17,\n",
       "  6: 18,\n",
       "  7: 17,\n",
       "  8: 20,\n",
       "  9: 17,\n",
       "  10: 21,\n",
       "  11: 16,\n",
       "  12: 17},\n",
       " 17)"
      ]
     },
     "execution_count": 102,
     "metadata": {},
     "output_type": "execute_result"
    }
   ],
   "source": [
    "# 执行下列代码，练习使用字典访问数据的方法\n",
    "record_dict[1000]['name'],record_dict[1000]['wtr'],record_dict[1000]['wtr'][9]"
   ]
  },
  {
   "cell_type": "markdown",
   "metadata": {},
   "source": [
    "2.4  \n",
    "将数据保存为JSON文件"
   ]
  },
  {
   "cell_type": "code",
   "execution_count": 106,
   "metadata": {},
   "outputs": [],
   "source": [
    "import json"
   ]
  },
  {
   "cell_type": "code",
   "execution_count": 107,
   "metadata": {},
   "outputs": [],
   "source": [
    "json_file='wtr.json'\n",
    "json_file_path=os.path.join(DATA_DIR,json_file)"
   ]
  },
  {
   "cell_type": "code",
   "execution_count": 114,
   "metadata": {},
   "outputs": [],
   "source": [
    "# 编写代码，将2.3生成的字典形式的数据以JSON格式进行存储。为了增加文件的可读性，最好在调用json.dump或json.dumps时指定参数indent。\n",
    "# \n",
    "# 在此处补全代码\n",
    "# \n",
    "with open(json_file_path, 'w') as fw :\n",
    "    json.dump(record_dict, fw, indent=4)"
   ]
  },
  {
   "cell_type": "code",
   "execution_count": 115,
   "metadata": {},
   "outputs": [
    {
     "name": "stdout",
     "output_type": "stream",
     "text": [
      "{\n",
      "    \"1000\": {\n",
      "        \"name\": \"zhao\",\n",
      "        \"wtr\": {\n",
      "            \"1\": 17,\n",
      "            \"2\": 16,\n",
      "            \"3\": 18,\n",
      "            \"4\": 21,\n",
      "            \"5\": 17,\n",
      "            \"6\": 18,\n",
      "            \"7\": 17,\n",
      "            \"8\": 20,\n",
      "            \"9\": 17,\n",
      "            \"10\": 21,\n",
      "            \"11\": 16,\n",
      "            \"12\": 17\n",
      "        }\n",
      "    },\n",
      "    \"1001\": {\n",
      "        \"name\": \"qian\",\n",
      "        \"wtr\": {\n",
      "            \"1\": 19,\n",
      "            \"2\": 17,\n",
      "            \"3\": 21,\n",
      "            \"4\": 20,\n",
      "            \"5\": 17,\n",
      "            \"6\": 19,\n",
      "            \"7\": 22,\n",
      "            \"8\": 20,\n",
      "            \"9\": 18,\n",
      "            \"10\": 16,\n",
      "            \"11\": 19,\n",
      "            \"12\": 17\n",
      "        }\n",
      "    },\n",
      "    \"1002\": {\n",
      "        \"name\": \"sun\",\n",
      "        \"wtr\": {\n",
      "            \"1\": 17,\n",
      "            \"2\": 19,\n",
      "            \"3\": 20,\n",
      "            \"4\": 17,\n",
      "            \"5\": 22,\n",
      "            \"6\": 18,\n",
      "            \"7\": 22,\n",
      "            \"8\": 19,\n",
      "            \"9\": 19,\n",
      "            \"10\": 22,\n",
      "            \"11\": 17,\n",
      "            \"12\": 19\n",
      "        }\n",
      "    },\n",
      "    \"1003\": {\n",
      "        \"name\": \"li\",\n",
      "        \"wtr\": {\n",
      "            \"1\": 18,\n",
      "            \"2\": 22,\n",
      "            \"3\": 20,\n",
      "            \"4\": 19,\n",
      "            \"5\": 16,\n",
      "            \"6\": 17,\n",
      "            \"7\": 20,\n",
      "            \"8\": 18,\n",
      "            \"9\": 18,\n",
      "            \"10\": 19,\n",
      "            \"11\": 19,\n",
      "            \"12\": 17\n",
      "        }\n",
      "    },\n",
      "    \"1004\": {\n",
      "        \"name\": \"zhou\",\n",
      "        \"wtr\": {\n",
      "            \"1\": 18,\n",
      "            \"2\": 21,\n",
      "            \"3\": 22,\n",
      "            \"4\": 17,\n",
      "            \"5\": 19,\n",
      "            \"6\": 18,\n",
      "            \"7\": 20,\n",
      "            \"8\": 16,\n",
      "            \"9\": 19,\n",
      "            \"10\": 21,\n",
      "            \"11\": 20,\n",
      "            \"12\": 17\n",
      "        }\n",
      "    },\n",
      "    \"1005\": {\n",
      "        \"name\": \"wu\",\n",
      "        \"wtr\": {\n",
      "            \"1\": 17,\n",
      "            \"2\": 20,\n",
      "            \"3\": 17,\n",
      "            \"4\": 19,\n",
      "            \"5\": 22,\n",
      "            \"6\": 21,\n",
      "            \"7\": 19,\n",
      "            \"8\": 16,\n",
      "            \"9\": 16,\n",
      "            \"10\": 21,\n",
      "            \"11\": 16,\n",
      "            \"12\": 22\n",
      "        }\n",
      "    },\n",
      "    \"1006\": {\n",
      "        \"name\": \"zheng\",\n",
      "        \"wtr\": {\n",
      "            \"1\": 16,\n",
      "            \"2\": 21,\n",
      "            \"3\": 22,\n",
      "            \"4\": 20,\n",
      "            \"5\": 19,\n",
      "            \"6\": 20,\n",
      "            \"7\": 20,\n",
      "            \"8\": 22,\n",
      "            \"9\": 17,\n",
      "            \"10\": 21,\n",
      "            \"11\": 17,\n",
      "            \"12\": 20\n",
      "        }\n",
      "    },\n",
      "    \"1007\": {\n",
      "        \"name\": \"wang\",\n",
      "        \"wtr\": {\n",
      "            \"1\": 18,\n",
      "            \"2\": 20,\n",
      "            \"3\": 21,\n",
      "            \"4\": 20,\n",
      "            \"5\": 17,\n",
      "            \"6\": 17,\n",
      "            \"7\": 22,\n",
      "            \"8\": 19,\n",
      "            \"9\": 21,\n",
      "            \"10\": 20,\n",
      "            \"11\": 20,\n",
      "            \"12\": 21\n",
      "        }\n",
      "    }\n",
      "}\n"
     ]
    }
   ],
   "source": [
    "# 将json文件的内容逐行打印出来，并观察文件内容，尤其是key的表达方式。上一步需要正常执行，这一步才能得到正确结果。\n",
    "with open(json_file_path, 'r') as f:\n",
    "    for line in f:\n",
    "        print(line.rstrip())"
   ]
  },
  {
   "cell_type": "markdown",
   "metadata": {},
   "source": [
    "可以看到原本数字形式的key都转换成文本了"
   ]
  },
  {
   "cell_type": "code",
   "execution_count": 116,
   "metadata": {},
   "outputs": [],
   "source": [
    "# 编写代码，将json文件读取到字典record_dict_1中，并打印出来，观察key和value的形式。\n",
    "# \n",
    "# 在此处补全代码\n",
    "# \n",
    "with open(json_file_path, 'r') as f:\n",
    "    record_dict_1 = json.load(f)"
   ]
  },
  {
   "cell_type": "code",
   "execution_count": null,
   "metadata": {
    "scrolled": true
   },
   "outputs": [],
   "source": [
    "record_dict_1"
   ]
  },
  {
   "cell_type": "markdown",
   "metadata": {},
   "source": [
    "## 习题3：闭包"
   ]
  },
  {
   "cell_type": "markdown",
   "metadata": {},
   "source": [
    "3.1  \n",
    "几个闭包的实现案例"
   ]
  },
  {
   "cell_type": "code",
   "execution_count": 31,
   "metadata": {},
   "outputs": [],
   "source": [
    "# 编写一个函数，返回一个闭包，以完成下一步测试的内容。\n",
    "# 该闭包的功能是将每次调用时输入的值追加到闭包内的一个列表中，并返回该列表。\n",
    "def list_collector():\n",
    "    # \n",
    "    # 在此处补全代码\n",
    "    #\n",
    "    alist = []\n",
    "    def inner( val ):\n",
    "        alist.append(val)\n",
    "        return alist\n",
    "    return inner"
   ]
  },
  {
   "cell_type": "code",
   "execution_count": 32,
   "metadata": {},
   "outputs": [
    {
     "name": "stdout",
     "output_type": "stream",
     "text": [
      "[10]\n",
      "[10, 'a']\n",
      "[10, 'a', 1]\n",
      "[10, 'a', 1, 2]\n",
      "[10, 'a', 1, 2, 3]\n"
     ]
    }
   ],
   "source": [
    "# 执行代码，输出结果应与本注释中的一致：\n",
    "# [10]\n",
    "# [10, 'a']\n",
    "# [10, 'a', 1]\n",
    "# [10, 'a', 1, 2]\n",
    "# [10, 'a', 1, 2, 3]\n",
    "\n",
    "c01=list_collector()\n",
    "print(c01(10))\n",
    "print(c01('a'))\n",
    "print(c01(1))\n",
    "print(c01(2))\n",
    "print(c01(3))\n"
   ]
  },
  {
   "cell_type": "code",
   "execution_count": 37,
   "metadata": {},
   "outputs": [],
   "source": [
    "# 编写一个函数，返回一个闭包，以完成下一步测试的内容。\n",
    "# 该闭包的功能是将每次调用时输入的值添加到闭包内的一个集合中，并返回该集合。\n",
    "def set_collector():\n",
    "    # \n",
    "    # 在此处补全代码\n",
    "    #\n",
    "    acol = set()\n",
    "    def inner(val):\n",
    "        acol.add(val)\n",
    "        return acol\n",
    "    return inner\n"
   ]
  },
  {
   "cell_type": "code",
   "execution_count": 38,
   "metadata": {},
   "outputs": [
    {
     "name": "stdout",
     "output_type": "stream",
     "text": [
      "{10}\n",
      "{10, 'a'}\n",
      "{1, 10, 'a'}\n",
      "{1, 10, 'a'}\n",
      "{1, 10, 2, 'a'}\n"
     ]
    }
   ],
   "source": [
    "# 执行代码，输出结果应与本注释中的一致：\n",
    "# {10}\n",
    "# {10, 'a'}\n",
    "# {1, 10, 'a'}\n",
    "# {1, 10, 'a'}\n",
    "# {1, 10, 2, 'a'}\n",
    "\n",
    "s01=set_collector()\n",
    "print(s01(10))\n",
    "print(s01('a'))\n",
    "print(s01(1))\n",
    "print(s01(10))\n",
    "print(s01(2))\n"
   ]
  },
  {
   "cell_type": "code",
   "execution_count": 40,
   "metadata": {
    "collapsed": true
   },
   "outputs": [],
   "source": [
    "# 函数counter()返回一个计数器函数闭包，每次调用这个闭包函数时的返回值会从1开始递增。\n",
    "# 观察和学习该闭包的写法，并执行下一步的代码，观察输出结果。\n",
    "# 请注意此处必须将变量n声明为nonlocal，否则执行将会出错。建议进一步查阅python变量作用域（LEGB）的相关文献。\n",
    "\n",
    "def counter():\n",
    "    n=0\n",
    "    \n",
    "    def count():\n",
    "        nonlocal n\n",
    "        n=n+1\n",
    "        return n\n",
    "    \n",
    "    return count"
   ]
  },
  {
   "cell_type": "code",
   "execution_count": 41,
   "metadata": {},
   "outputs": [
    {
     "name": "stdout",
     "output_type": "stream",
     "text": [
      "1\n",
      "2\n",
      "3\n",
      "4\n",
      "5\n",
      "6\n",
      "7\n",
      "8\n",
      "9\n",
      "10\n",
      "11\n",
      "12\n",
      "13\n",
      "14\n",
      "15\n"
     ]
    }
   ],
   "source": [
    "# 执行以下代码，并观察计数器闭包的输出结果。\n",
    "\n",
    "c=counter()\n",
    "\n",
    "for _ in range(10):\n",
    "    print(c())\n",
    "    \n",
    "for _ in range(5):\n",
    "    print(c())\n"
   ]
  },
  {
   "cell_type": "markdown",
   "metadata": {},
   "source": [
    "3.2 对函数counter进行修改，指定输入参数N，使该函数返回的是从N+1开始递增的计数器闭包。"
   ]
  },
  {
   "cell_type": "code",
   "execution_count": 39,
   "metadata": {},
   "outputs": [],
   "source": [
    "# 编写生成闭包的函数counter_2(N)，给定输入参数N，返回从N+1开始递增的计数器闭包。\n",
    "\n",
    "def counter_2(N):\n",
    "    # \n",
    "    # 在此处补全代码\n",
    "    # \n",
    "    n = N\n",
    "    def inner():\n",
    "        nonlocal n\n",
    "        n += 1\n",
    "        return n\n",
    "    return inner"
   ]
  },
  {
   "cell_type": "code",
   "execution_count": 41,
   "metadata": {},
   "outputs": [
    {
     "name": "stdout",
     "output_type": "stream",
     "text": [
      "11 12 13 14 15 16 17 18 19 20 "
     ]
    }
   ],
   "source": [
    "# 执行下列测试代码，执行结果应为：“11 12 13 14 15 16 17 18 19 20 ”\n",
    "\n",
    "c=counter_2(10)\n",
    "for _ in range(10):\n",
    "    print(c(),end=' ')"
   ]
  },
  {
   "cell_type": "markdown",
   "metadata": {},
   "source": [
    "3.3  \n",
    "对函数counter_2进行修改，同时返回递增计数器闭包和使计数器复位的函数。"
   ]
  },
  {
   "cell_type": "code",
   "execution_count": 42,
   "metadata": {},
   "outputs": [],
   "source": [
    "# 请回忆一下，python的函数是可以返回多个值的，因此也可以同时返回两个函数。\n",
    "\n",
    "def counter_3(N):\n",
    "    n=N\n",
    "    \n",
    "    def count():\n",
    "        nonlocal n\n",
    "        n=n+1\n",
    "        return n\n",
    "    \n",
    "    def reset():\n",
    "        nonlocal n\n",
    "        n=N\n",
    "        return n\n",
    "    \n",
    "    return count,reset"
   ]
  },
  {
   "cell_type": "code",
   "execution_count": 43,
   "metadata": {},
   "outputs": [
    {
     "name": "stdout",
     "output_type": "stream",
     "text": [
      "11 12 13\n",
      "********\n",
      "10 11 12 13\n",
      "********\n",
      "14 15 16 17 18 19 20 21 22 23 "
     ]
    }
   ],
   "source": [
    "# 执行以下代码，输出结果应与本注释中的一致：\n",
    "# 11 12 13\n",
    "# ********\n",
    "# 10 11 12 13\n",
    "# ********\n",
    "# 14 15 16 17 18 19 20 21 22 23 \n",
    "\n",
    "c,r=counter_3(10)\n",
    "print(c(),end=' ')\n",
    "print(c(),end=' ')\n",
    "print(c())\n",
    "print('*'*8)\n",
    "print(r(),end=' ')\n",
    "print(c(),end=' ')\n",
    "print(c(),end=' ')\n",
    "print(c())\n",
    "print('*'*8)\n",
    "for _ in range(10):\n",
    "    print(c(),end=' ')"
   ]
  },
  {
   "cell_type": "markdown",
   "metadata": {},
   "source": [
    "## 习题4：面向对象编程（OOP）  \n",
    "#### 使用Class实现counter功能"
   ]
  },
  {
   "cell_type": "code",
   "execution_count": 44,
   "metadata": {},
   "outputs": [],
   "source": [
    "# 编写一个类Counter，实现3.3中用闭包所实现的功能。\n",
    "# 该类的count和reset方法将实现计数和复位功能\n",
    "\n",
    "class Counter():\n",
    "    def __init__(self,N=0):\n",
    "        self.init_n=N\n",
    "        self.counter=N\n",
    "        \n",
    "    def count(self):\n",
    "        # \n",
    "        # 在此处补全代码\n",
    "        #     \n",
    "        self.counter += 1\n",
    "        return self.counter\n",
    "        \n",
    "    def reset(self):\n",
    "        # \n",
    "        # 在此处补全代码\n",
    "        #     \n",
    "        self.counter = self.init_n"
   ]
  },
  {
   "cell_type": "code",
   "execution_count": 46,
   "metadata": {},
   "outputs": [
    {
     "name": "stdout",
     "output_type": "stream",
     "text": [
      "11 12 13 14 15 \n",
      "==================\n",
      "11 12 13 14 15 16 17 18 19 20 21 22 23 24 25 26 27 28 29 30 \n"
     ]
    }
   ],
   "source": [
    "# 执行以下测试代码，结果应与本注释中的一致：\n",
    "# 11 12 13 14 15 \n",
    "# ==================\n",
    "# 11 12 13 14 15 16 17 18 19 20 21 22 23 24 25 26 27 28 29 30 \n",
    "\n",
    "\n",
    "c01=Counter(10)\n",
    "\n",
    "for _ in range(5):\n",
    "    print(c01.count(),end=' ')\n",
    "print()\n",
    "print('='*18)\n",
    "\n",
    "c01.reset()\n",
    "for _ in range(20):\n",
    "    print(c01.count(),end=' ')\n",
    "print()"
   ]
  },
  {
   "cell_type": "markdown",
   "metadata": {},
   "source": [
    "## 习题5：用Class实现数据包合并\n",
    "#### 本题不需要编写程序，但要求能看懂和理解程序。"
   ]
  },
  {
   "cell_type": "markdown",
   "metadata": {},
   "source": [
    "首先定义数据包结构\n"
   ]
  },
  {
   "cell_type": "code",
   "execution_count": 48,
   "metadata": {
    "collapsed": true
   },
   "outputs": [],
   "source": [
    "packet={'id'             : 1,\n",
    "        'more_fragments' : True,\n",
    "        'offset'         : 0,\n",
    "        'length'   : 8,\n",
    "        'payload'        : [0,1,2,3,4,5,6,7]}"
   ]
  },
  {
   "cell_type": "markdown",
   "metadata": {},
   "source": [
    "定义一个原始包生成器"
   ]
  },
  {
   "cell_type": "code",
   "execution_count": 49,
   "metadata": {
    "collapsed": true
   },
   "outputs": [],
   "source": [
    "def generate_packet(packet_id,total_length):\n",
    "    return {'id'     : packet_id,\n",
    "            'payload': [v for v in range(total_length)]}"
   ]
  },
  {
   "cell_type": "code",
   "execution_count": 50,
   "metadata": {},
   "outputs": [
    {
     "data": {
      "text/plain": [
       "{'id': 5,\n",
       " 'payload': [0,\n",
       "  1,\n",
       "  2,\n",
       "  3,\n",
       "  4,\n",
       "  5,\n",
       "  6,\n",
       "  7,\n",
       "  8,\n",
       "  9,\n",
       "  10,\n",
       "  11,\n",
       "  12,\n",
       "  13,\n",
       "  14,\n",
       "  15,\n",
       "  16,\n",
       "  17,\n",
       "  18,\n",
       "  19]}"
      ]
     },
     "execution_count": 50,
     "metadata": {},
     "output_type": "execute_result"
    }
   ],
   "source": [
    "generate_packet(5,20)"
   ]
  },
  {
   "cell_type": "markdown",
   "metadata": {},
   "source": [
    "写一个函数，将数据包按照预定义的分片长度（mtu）分成几个分片（fragment）"
   ]
  },
  {
   "cell_type": "code",
   "execution_count": 51,
   "metadata": {
    "collapsed": true
   },
   "outputs": [],
   "source": [
    "def fragmentation(packet,mtu=10):\n",
    "    packet_length=len(packet['payload'])\n",
    "    frag_begin_list=[i for i in range(0,packet_length,mtu)]\n",
    "    frag_end_list=(frag_begin_list+[packet_length])[1:]\n",
    "    more_flagments_list=[True for _ in frag_begin_list[:-1]]+[False]\n",
    "    offset_list=frag_begin_list\n",
    "    \n",
    "    fragment_list=[{'id'             : packet['id'],\n",
    "                    'more_fragments' : more_fragments,\n",
    "                    'offset'         : offset,\n",
    "                    'length'         : frag_end-frag_begin,\n",
    "                    'payload'        : packet['payload'][frag_begin:frag_end]} \n",
    "                   for more_fragments,offset,frag_begin,frag_end in zip(more_flagments_list,\n",
    "                                                                        offset_list,\n",
    "                                                                        frag_begin_list,\n",
    "                                                                        frag_end_list)]\n",
    "    return fragment_list"
   ]
  },
  {
   "cell_type": "code",
   "execution_count": 52,
   "metadata": {},
   "outputs": [
    {
     "data": {
      "text/plain": [
       "[{'id': 5,\n",
       "  'length': 10,\n",
       "  'more_fragments': True,\n",
       "  'offset': 0,\n",
       "  'payload': [0, 1, 2, 3, 4, 5, 6, 7, 8, 9]},\n",
       " {'id': 5,\n",
       "  'length': 10,\n",
       "  'more_fragments': False,\n",
       "  'offset': 10,\n",
       "  'payload': [10, 11, 12, 13, 14, 15, 16, 17, 18, 19]}]"
      ]
     },
     "execution_count": 52,
     "metadata": {},
     "output_type": "execute_result"
    }
   ],
   "source": [
    "fragmentation(generate_packet(5,20))"
   ]
  },
  {
   "cell_type": "code",
   "execution_count": 53,
   "metadata": {},
   "outputs": [
    {
     "data": {
      "text/plain": [
       "[{'id': 7,\n",
       "  'length': 10,\n",
       "  'more_fragments': True,\n",
       "  'offset': 0,\n",
       "  'payload': [0, 1, 2, 3, 4, 5, 6, 7, 8, 9]},\n",
       " {'id': 7,\n",
       "  'length': 10,\n",
       "  'more_fragments': True,\n",
       "  'offset': 10,\n",
       "  'payload': [10, 11, 12, 13, 14, 15, 16, 17, 18, 19]},\n",
       " {'id': 7,\n",
       "  'length': 5,\n",
       "  'more_fragments': False,\n",
       "  'offset': 20,\n",
       "  'payload': [20, 21, 22, 23, 24]}]"
      ]
     },
     "execution_count": 53,
     "metadata": {},
     "output_type": "execute_result"
    }
   ],
   "source": [
    "fragmentation(generate_packet(7,25))"
   ]
  },
  {
   "cell_type": "code",
   "execution_count": 54,
   "metadata": {},
   "outputs": [
    {
     "data": {
      "text/plain": [
       "[{'id': 7,\n",
       "  'length': 25,\n",
       "  'more_fragments': False,\n",
       "  'offset': 0,\n",
       "  'payload': [0,\n",
       "   1,\n",
       "   2,\n",
       "   3,\n",
       "   4,\n",
       "   5,\n",
       "   6,\n",
       "   7,\n",
       "   8,\n",
       "   9,\n",
       "   10,\n",
       "   11,\n",
       "   12,\n",
       "   13,\n",
       "   14,\n",
       "   15,\n",
       "   16,\n",
       "   17,\n",
       "   18,\n",
       "   19,\n",
       "   20,\n",
       "   21,\n",
       "   22,\n",
       "   23,\n",
       "   24]}]"
      ]
     },
     "execution_count": 54,
     "metadata": {},
     "output_type": "execute_result"
    }
   ],
   "source": [
    "fragmentation(generate_packet(7,25),mtu=30)"
   ]
  },
  {
   "cell_type": "markdown",
   "metadata": {},
   "source": [
    "产生10个长度在5到30之间的package，并按mtu=10进行分片"
   ]
  },
  {
   "cell_type": "code",
   "execution_count": 55,
   "metadata": {
    "collapsed": true,
    "scrolled": false
   },
   "outputs": [],
   "source": [
    "data=[{'packet':packet,'fragment_list':fragmentation(packet,mtu=10)} for packet in [generate_packet(i,random.randint(5,30)) for i in range(10)]]"
   ]
  },
  {
   "cell_type": "code",
   "execution_count": 56,
   "metadata": {
    "scrolled": true
   },
   "outputs": [
    {
     "name": "stdout",
     "output_type": "stream",
     "text": [
      "[ { 'fragment_list': [ { 'id': 0,\n",
      "                         'length': 8,\n",
      "                         'more_fragments': False,\n",
      "                         'offset': 0,\n",
      "                         'payload': [0, 1, 2, 3, 4, 5, 6, 7]}],\n",
      "    'packet': {'id': 0, 'payload': [0, 1, 2, 3, 4, 5, 6, 7]}},\n",
      "  { 'fragment_list': [ { 'id': 1,\n",
      "                         'length': 10,\n",
      "                         'more_fragments': True,\n",
      "                         'offset': 0,\n",
      "                         'payload': [0, 1, 2, 3, 4, 5, 6, 7, 8, 9]},\n",
      "                       { 'id': 1,\n",
      "                         'length': 10,\n",
      "                         'more_fragments': True,\n",
      "                         'offset': 10,\n",
      "                         'payload': [10, 11, 12, 13, 14, 15, 16, 17, 18, 19]},\n",
      "                       { 'id': 1,\n",
      "                         'length': 6,\n",
      "                         'more_fragments': False,\n",
      "                         'offset': 20,\n",
      "                         'payload': [20, 21, 22, 23, 24, 25]}],\n",
      "    'packet': { 'id': 1,\n",
      "                'payload': [ 0,\n",
      "                             1,\n",
      "                             2,\n",
      "                             3,\n",
      "                             4,\n",
      "                             5,\n",
      "                             6,\n",
      "                             7,\n",
      "                             8,\n",
      "                             9,\n",
      "                             10,\n",
      "                             11,\n",
      "                             12,\n",
      "                             13,\n",
      "                             14,\n",
      "                             15,\n",
      "                             16,\n",
      "                             17,\n",
      "                             18,\n",
      "                             19,\n",
      "                             20,\n",
      "                             21,\n",
      "                             22,\n",
      "                             23,\n",
      "                             24,\n",
      "                             25]}},\n",
      "  { 'fragment_list': [ { 'id': 2,\n",
      "                         'length': 10,\n",
      "                         'more_fragments': True,\n",
      "                         'offset': 0,\n",
      "                         'payload': [0, 1, 2, 3, 4, 5, 6, 7, 8, 9]},\n",
      "                       { 'id': 2,\n",
      "                         'length': 5,\n",
      "                         'more_fragments': False,\n",
      "                         'offset': 10,\n",
      "                         'payload': [10, 11, 12, 13, 14]}],\n",
      "    'packet': { 'id': 2,\n",
      "                'payload': [0, 1, 2, 3, 4, 5, 6, 7, 8, 9, 10, 11, 12, 13, 14]}},\n",
      "  { 'fragment_list': [ { 'id': 3,\n",
      "                         'length': 10,\n",
      "                         'more_fragments': True,\n",
      "                         'offset': 0,\n",
      "                         'payload': [0, 1, 2, 3, 4, 5, 6, 7, 8, 9]},\n",
      "                       { 'id': 3,\n",
      "                         'length': 9,\n",
      "                         'more_fragments': False,\n",
      "                         'offset': 10,\n",
      "                         'payload': [10, 11, 12, 13, 14, 15, 16, 17, 18]}],\n",
      "    'packet': { 'id': 3,\n",
      "                'payload': [ 0,\n",
      "                             1,\n",
      "                             2,\n",
      "                             3,\n",
      "                             4,\n",
      "                             5,\n",
      "                             6,\n",
      "                             7,\n",
      "                             8,\n",
      "                             9,\n",
      "                             10,\n",
      "                             11,\n",
      "                             12,\n",
      "                             13,\n",
      "                             14,\n",
      "                             15,\n",
      "                             16,\n",
      "                             17,\n",
      "                             18]}},\n",
      "  { 'fragment_list': [ { 'id': 4,\n",
      "                         'length': 10,\n",
      "                         'more_fragments': True,\n",
      "                         'offset': 0,\n",
      "                         'payload': [0, 1, 2, 3, 4, 5, 6, 7, 8, 9]},\n",
      "                       { 'id': 4,\n",
      "                         'length': 1,\n",
      "                         'more_fragments': False,\n",
      "                         'offset': 10,\n",
      "                         'payload': [10]}],\n",
      "    'packet': {'id': 4, 'payload': [0, 1, 2, 3, 4, 5, 6, 7, 8, 9, 10]}},\n",
      "  { 'fragment_list': [ { 'id': 5,\n",
      "                         'length': 10,\n",
      "                         'more_fragments': True,\n",
      "                         'offset': 0,\n",
      "                         'payload': [0, 1, 2, 3, 4, 5, 6, 7, 8, 9]},\n",
      "                       { 'id': 5,\n",
      "                         'length': 10,\n",
      "                         'more_fragments': True,\n",
      "                         'offset': 10,\n",
      "                         'payload': [10, 11, 12, 13, 14, 15, 16, 17, 18, 19]},\n",
      "                       { 'id': 5,\n",
      "                         'length': 10,\n",
      "                         'more_fragments': False,\n",
      "                         'offset': 20,\n",
      "                         'payload': [20, 21, 22, 23, 24, 25, 26, 27, 28, 29]}],\n",
      "    'packet': { 'id': 5,\n",
      "                'payload': [ 0,\n",
      "                             1,\n",
      "                             2,\n",
      "                             3,\n",
      "                             4,\n",
      "                             5,\n",
      "                             6,\n",
      "                             7,\n",
      "                             8,\n",
      "                             9,\n",
      "                             10,\n",
      "                             11,\n",
      "                             12,\n",
      "                             13,\n",
      "                             14,\n",
      "                             15,\n",
      "                             16,\n",
      "                             17,\n",
      "                             18,\n",
      "                             19,\n",
      "                             20,\n",
      "                             21,\n",
      "                             22,\n",
      "                             23,\n",
      "                             24,\n",
      "                             25,\n",
      "                             26,\n",
      "                             27,\n",
      "                             28,\n",
      "                             29]}},\n",
      "  { 'fragment_list': [ { 'id': 6,\n",
      "                         'length': 10,\n",
      "                         'more_fragments': True,\n",
      "                         'offset': 0,\n",
      "                         'payload': [0, 1, 2, 3, 4, 5, 6, 7, 8, 9]},\n",
      "                       { 'id': 6,\n",
      "                         'length': 10,\n",
      "                         'more_fragments': True,\n",
      "                         'offset': 10,\n",
      "                         'payload': [10, 11, 12, 13, 14, 15, 16, 17, 18, 19]},\n",
      "                       { 'id': 6,\n",
      "                         'length': 3,\n",
      "                         'more_fragments': False,\n",
      "                         'offset': 20,\n",
      "                         'payload': [20, 21, 22]}],\n",
      "    'packet': { 'id': 6,\n",
      "                'payload': [ 0,\n",
      "                             1,\n",
      "                             2,\n",
      "                             3,\n",
      "                             4,\n",
      "                             5,\n",
      "                             6,\n",
      "                             7,\n",
      "                             8,\n",
      "                             9,\n",
      "                             10,\n",
      "                             11,\n",
      "                             12,\n",
      "                             13,\n",
      "                             14,\n",
      "                             15,\n",
      "                             16,\n",
      "                             17,\n",
      "                             18,\n",
      "                             19,\n",
      "                             20,\n",
      "                             21,\n",
      "                             22]}},\n",
      "  { 'fragment_list': [ { 'id': 7,\n",
      "                         'length': 8,\n",
      "                         'more_fragments': False,\n",
      "                         'offset': 0,\n",
      "                         'payload': [0, 1, 2, 3, 4, 5, 6, 7]}],\n",
      "    'packet': {'id': 7, 'payload': [0, 1, 2, 3, 4, 5, 6, 7]}},\n",
      "  { 'fragment_list': [ { 'id': 8,\n",
      "                         'length': 10,\n",
      "                         'more_fragments': True,\n",
      "                         'offset': 0,\n",
      "                         'payload': [0, 1, 2, 3, 4, 5, 6, 7, 8, 9]},\n",
      "                       { 'id': 8,\n",
      "                         'length': 2,\n",
      "                         'more_fragments': False,\n",
      "                         'offset': 10,\n",
      "                         'payload': [10, 11]}],\n",
      "    'packet': {'id': 8, 'payload': [0, 1, 2, 3, 4, 5, 6, 7, 8, 9, 10, 11]}},\n",
      "  { 'fragment_list': [ { 'id': 9,\n",
      "                         'length': 5,\n",
      "                         'more_fragments': False,\n",
      "                         'offset': 0,\n",
      "                         'payload': [0, 1, 2, 3, 4]}],\n",
      "    'packet': {'id': 9, 'payload': [0, 1, 2, 3, 4]}}]\n"
     ]
    }
   ],
   "source": [
    "pprint(data,indent=2)"
   ]
  },
  {
   "cell_type": "markdown",
   "metadata": {},
   "source": [
    "上一步的package和fragment是在列表的同一个element里的，现在将fragment分离出来，构成一个列表。"
   ]
  },
  {
   "cell_type": "code",
   "execution_count": 57,
   "metadata": {
    "collapsed": true
   },
   "outputs": [],
   "source": [
    "fragments=[frag for pkt in data for frag in pkt['fragment_list']]"
   ]
  },
  {
   "cell_type": "code",
   "execution_count": 58,
   "metadata": {
    "scrolled": true
   },
   "outputs": [
    {
     "data": {
      "text/plain": [
       "[{'id': 0,\n",
       "  'length': 8,\n",
       "  'more_fragments': False,\n",
       "  'offset': 0,\n",
       "  'payload': [0, 1, 2, 3, 4, 5, 6, 7]},\n",
       " {'id': 1,\n",
       "  'length': 10,\n",
       "  'more_fragments': True,\n",
       "  'offset': 0,\n",
       "  'payload': [0, 1, 2, 3, 4, 5, 6, 7, 8, 9]},\n",
       " {'id': 1,\n",
       "  'length': 10,\n",
       "  'more_fragments': True,\n",
       "  'offset': 10,\n",
       "  'payload': [10, 11, 12, 13, 14, 15, 16, 17, 18, 19]},\n",
       " {'id': 1,\n",
       "  'length': 6,\n",
       "  'more_fragments': False,\n",
       "  'offset': 20,\n",
       "  'payload': [20, 21, 22, 23, 24, 25]},\n",
       " {'id': 2,\n",
       "  'length': 10,\n",
       "  'more_fragments': True,\n",
       "  'offset': 0,\n",
       "  'payload': [0, 1, 2, 3, 4, 5, 6, 7, 8, 9]},\n",
       " {'id': 2,\n",
       "  'length': 5,\n",
       "  'more_fragments': False,\n",
       "  'offset': 10,\n",
       "  'payload': [10, 11, 12, 13, 14]},\n",
       " {'id': 3,\n",
       "  'length': 10,\n",
       "  'more_fragments': True,\n",
       "  'offset': 0,\n",
       "  'payload': [0, 1, 2, 3, 4, 5, 6, 7, 8, 9]},\n",
       " {'id': 3,\n",
       "  'length': 9,\n",
       "  'more_fragments': False,\n",
       "  'offset': 10,\n",
       "  'payload': [10, 11, 12, 13, 14, 15, 16, 17, 18]},\n",
       " {'id': 4,\n",
       "  'length': 10,\n",
       "  'more_fragments': True,\n",
       "  'offset': 0,\n",
       "  'payload': [0, 1, 2, 3, 4, 5, 6, 7, 8, 9]},\n",
       " {'id': 4,\n",
       "  'length': 1,\n",
       "  'more_fragments': False,\n",
       "  'offset': 10,\n",
       "  'payload': [10]},\n",
       " {'id': 5,\n",
       "  'length': 10,\n",
       "  'more_fragments': True,\n",
       "  'offset': 0,\n",
       "  'payload': [0, 1, 2, 3, 4, 5, 6, 7, 8, 9]},\n",
       " {'id': 5,\n",
       "  'length': 10,\n",
       "  'more_fragments': True,\n",
       "  'offset': 10,\n",
       "  'payload': [10, 11, 12, 13, 14, 15, 16, 17, 18, 19]},\n",
       " {'id': 5,\n",
       "  'length': 10,\n",
       "  'more_fragments': False,\n",
       "  'offset': 20,\n",
       "  'payload': [20, 21, 22, 23, 24, 25, 26, 27, 28, 29]},\n",
       " {'id': 6,\n",
       "  'length': 10,\n",
       "  'more_fragments': True,\n",
       "  'offset': 0,\n",
       "  'payload': [0, 1, 2, 3, 4, 5, 6, 7, 8, 9]},\n",
       " {'id': 6,\n",
       "  'length': 10,\n",
       "  'more_fragments': True,\n",
       "  'offset': 10,\n",
       "  'payload': [10, 11, 12, 13, 14, 15, 16, 17, 18, 19]},\n",
       " {'id': 6,\n",
       "  'length': 3,\n",
       "  'more_fragments': False,\n",
       "  'offset': 20,\n",
       "  'payload': [20, 21, 22]},\n",
       " {'id': 7,\n",
       "  'length': 8,\n",
       "  'more_fragments': False,\n",
       "  'offset': 0,\n",
       "  'payload': [0, 1, 2, 3, 4, 5, 6, 7]},\n",
       " {'id': 8,\n",
       "  'length': 10,\n",
       "  'more_fragments': True,\n",
       "  'offset': 0,\n",
       "  'payload': [0, 1, 2, 3, 4, 5, 6, 7, 8, 9]},\n",
       " {'id': 8,\n",
       "  'length': 2,\n",
       "  'more_fragments': False,\n",
       "  'offset': 10,\n",
       "  'payload': [10, 11]},\n",
       " {'id': 9,\n",
       "  'length': 5,\n",
       "  'more_fragments': False,\n",
       "  'offset': 0,\n",
       "  'payload': [0, 1, 2, 3, 4]}]"
      ]
     },
     "execution_count": 58,
     "metadata": {},
     "output_type": "execute_result"
    }
   ],
   "source": [
    "fragments"
   ]
  },
  {
   "cell_type": "markdown",
   "metadata": {},
   "source": [
    "下面我们定义一个类PacketCombiner，实现将这些分片进行合并的功能"
   ]
  },
  {
   "cell_type": "code",
   "execution_count": 59,
   "metadata": {
    "collapsed": true
   },
   "outputs": [],
   "source": [
    "class PacketCombiner():\n",
    "    def __init__(self):\n",
    "        self.buffer_dict=dict()\n",
    "        \n",
    "    def make_packet_key(self,packet):\n",
    "        return packet['id']\n",
    "    \n",
    "    def get_buffer_by_key(self,packet_key):\n",
    "        if packet_key in self.buffer_dict:\n",
    "            return self.buffer_dict[packet_key]\n",
    "        else:\n",
    "            return []\n",
    "        \n",
    "    def insert_packet_to_buffer(self,buffer,packet):\n",
    "        return sorted(buffer+[packet],key=lambda pkt : pkt['offset'])\n",
    "    \n",
    "    def has_all_fragments(self,packet_list):\n",
    "        offset_counter=0\n",
    "        more_frag_counter=True\n",
    "        for packet in packet_list:\n",
    "            if offset_counter!=packet['offset']:\n",
    "                return False\n",
    "            else:\n",
    "                offset_counter=offset_counter+packet['length']\n",
    "                more_frag_counter=packet['more_fragments']\n",
    "        \n",
    "        return not more_frag_counter\n",
    "        \n",
    "    def combine(self,packet_list):\n",
    "        if len(packet_list) == 0:\n",
    "            return None\n",
    "        else:\n",
    "            packet_id=packet_list[0]['id']\n",
    "            packet_payload=[value for packet in packet_list for value in packet['payload']]\n",
    "            return {'id'      : packet_id,\n",
    "                    'payload' : packet_payload}\n",
    "    \n",
    "    def process(self,packet):\n",
    "        print('buffer_dict =',self.buffer_dict)\n",
    "        print('packet      =',packet)\n",
    "        buffer_to_combine=[]\n",
    "        new_buffer_dict=dict()\n",
    "        packet_key=self.make_packet_key(packet)\n",
    "        \n",
    "        buffer=self.insert_packet_to_buffer(self.get_buffer_by_key(packet_key),packet)\n",
    "        if self.has_all_fragments(buffer):\n",
    "            buffer_to_combine=buffer\n",
    "        else:\n",
    "            new_buffer_dict[packet_key]=buffer\n",
    "        \n",
    "        for k in self.buffer_dict.keys():\n",
    "            if packet_key!=k:\n",
    "                new_buffer_dict[k]=self.buffer_dict[k]\n",
    "        self.buffer_dict=new_buffer_dict\n",
    "        return self.combine(buffer_to_combine)\n"
   ]
  },
  {
   "cell_type": "markdown",
   "metadata": {},
   "source": [
    "现在我们用这个类的一个实例来将分片列表fragments中的数据包进行合并。"
   ]
  },
  {
   "cell_type": "code",
   "execution_count": 60,
   "metadata": {},
   "outputs": [
    {
     "name": "stdout",
     "output_type": "stream",
     "text": [
      "buffer_dict = {}\n",
      "packet      = {'payload': [0, 1, 2, 3, 4, 5, 6, 7], 'offset': 0, 'more_fragments': False, 'length': 8, 'id': 0}\n",
      ">>> {'payload': [0, 1, 2, 3, 4, 5, 6, 7], 'id': 0}\n",
      "\n",
      "buffer_dict = {}\n",
      "packet      = {'payload': [0, 1, 2, 3, 4, 5, 6, 7, 8, 9], 'offset': 0, 'more_fragments': True, 'length': 10, 'id': 1}\n",
      ">>> None\n",
      "\n",
      "buffer_dict = {1: [{'payload': [0, 1, 2, 3, 4, 5, 6, 7, 8, 9], 'offset': 0, 'more_fragments': True, 'length': 10, 'id': 1}]}\n",
      "packet      = {'payload': [10, 11, 12, 13, 14, 15, 16, 17, 18, 19], 'offset': 10, 'more_fragments': True, 'length': 10, 'id': 1}\n",
      ">>> None\n",
      "\n",
      "buffer_dict = {1: [{'payload': [0, 1, 2, 3, 4, 5, 6, 7, 8, 9], 'offset': 0, 'more_fragments': True, 'length': 10, 'id': 1}, {'payload': [10, 11, 12, 13, 14, 15, 16, 17, 18, 19], 'offset': 10, 'more_fragments': True, 'length': 10, 'id': 1}]}\n",
      "packet      = {'payload': [20, 21, 22, 23, 24, 25], 'offset': 20, 'more_fragments': False, 'length': 6, 'id': 1}\n",
      ">>> {'payload': [0, 1, 2, 3, 4, 5, 6, 7, 8, 9, 10, 11, 12, 13, 14, 15, 16, 17, 18, 19, 20, 21, 22, 23, 24, 25], 'id': 1}\n",
      "\n",
      "buffer_dict = {}\n",
      "packet      = {'payload': [0, 1, 2, 3, 4, 5, 6, 7, 8, 9], 'offset': 0, 'more_fragments': True, 'length': 10, 'id': 2}\n",
      ">>> None\n",
      "\n",
      "buffer_dict = {2: [{'payload': [0, 1, 2, 3, 4, 5, 6, 7, 8, 9], 'offset': 0, 'more_fragments': True, 'length': 10, 'id': 2}]}\n",
      "packet      = {'payload': [10, 11, 12, 13, 14], 'offset': 10, 'more_fragments': False, 'length': 5, 'id': 2}\n",
      ">>> {'payload': [0, 1, 2, 3, 4, 5, 6, 7, 8, 9, 10, 11, 12, 13, 14], 'id': 2}\n",
      "\n",
      "buffer_dict = {}\n",
      "packet      = {'payload': [0, 1, 2, 3, 4, 5, 6, 7, 8, 9], 'offset': 0, 'more_fragments': True, 'length': 10, 'id': 3}\n",
      ">>> None\n",
      "\n",
      "buffer_dict = {3: [{'payload': [0, 1, 2, 3, 4, 5, 6, 7, 8, 9], 'offset': 0, 'more_fragments': True, 'length': 10, 'id': 3}]}\n",
      "packet      = {'payload': [10, 11, 12, 13, 14, 15, 16, 17, 18], 'offset': 10, 'more_fragments': False, 'length': 9, 'id': 3}\n",
      ">>> {'payload': [0, 1, 2, 3, 4, 5, 6, 7, 8, 9, 10, 11, 12, 13, 14, 15, 16, 17, 18], 'id': 3}\n",
      "\n",
      "buffer_dict = {}\n",
      "packet      = {'payload': [0, 1, 2, 3, 4, 5, 6, 7, 8, 9], 'offset': 0, 'more_fragments': True, 'length': 10, 'id': 4}\n",
      ">>> None\n",
      "\n",
      "buffer_dict = {4: [{'payload': [0, 1, 2, 3, 4, 5, 6, 7, 8, 9], 'offset': 0, 'more_fragments': True, 'length': 10, 'id': 4}]}\n",
      "packet      = {'payload': [10], 'offset': 10, 'more_fragments': False, 'length': 1, 'id': 4}\n",
      ">>> {'payload': [0, 1, 2, 3, 4, 5, 6, 7, 8, 9, 10], 'id': 4}\n",
      "\n",
      "buffer_dict = {}\n",
      "packet      = {'payload': [0, 1, 2, 3, 4, 5, 6, 7, 8, 9], 'offset': 0, 'more_fragments': True, 'length': 10, 'id': 5}\n",
      ">>> None\n",
      "\n",
      "buffer_dict = {5: [{'payload': [0, 1, 2, 3, 4, 5, 6, 7, 8, 9], 'offset': 0, 'more_fragments': True, 'length': 10, 'id': 5}]}\n",
      "packet      = {'payload': [10, 11, 12, 13, 14, 15, 16, 17, 18, 19], 'offset': 10, 'more_fragments': True, 'length': 10, 'id': 5}\n",
      ">>> None\n",
      "\n",
      "buffer_dict = {5: [{'payload': [0, 1, 2, 3, 4, 5, 6, 7, 8, 9], 'offset': 0, 'more_fragments': True, 'length': 10, 'id': 5}, {'payload': [10, 11, 12, 13, 14, 15, 16, 17, 18, 19], 'offset': 10, 'more_fragments': True, 'length': 10, 'id': 5}]}\n",
      "packet      = {'payload': [20, 21, 22, 23, 24, 25, 26, 27, 28, 29], 'offset': 20, 'more_fragments': False, 'length': 10, 'id': 5}\n",
      ">>> {'payload': [0, 1, 2, 3, 4, 5, 6, 7, 8, 9, 10, 11, 12, 13, 14, 15, 16, 17, 18, 19, 20, 21, 22, 23, 24, 25, 26, 27, 28, 29], 'id': 5}\n",
      "\n",
      "buffer_dict = {}\n",
      "packet      = {'payload': [0, 1, 2, 3, 4, 5, 6, 7, 8, 9], 'offset': 0, 'more_fragments': True, 'length': 10, 'id': 6}\n",
      ">>> None\n",
      "\n",
      "buffer_dict = {6: [{'payload': [0, 1, 2, 3, 4, 5, 6, 7, 8, 9], 'offset': 0, 'more_fragments': True, 'length': 10, 'id': 6}]}\n",
      "packet      = {'payload': [10, 11, 12, 13, 14, 15, 16, 17, 18, 19], 'offset': 10, 'more_fragments': True, 'length': 10, 'id': 6}\n",
      ">>> None\n",
      "\n",
      "buffer_dict = {6: [{'payload': [0, 1, 2, 3, 4, 5, 6, 7, 8, 9], 'offset': 0, 'more_fragments': True, 'length': 10, 'id': 6}, {'payload': [10, 11, 12, 13, 14, 15, 16, 17, 18, 19], 'offset': 10, 'more_fragments': True, 'length': 10, 'id': 6}]}\n",
      "packet      = {'payload': [20, 21, 22], 'offset': 20, 'more_fragments': False, 'length': 3, 'id': 6}\n",
      ">>> {'payload': [0, 1, 2, 3, 4, 5, 6, 7, 8, 9, 10, 11, 12, 13, 14, 15, 16, 17, 18, 19, 20, 21, 22], 'id': 6}\n",
      "\n",
      "buffer_dict = {}\n",
      "packet      = {'payload': [0, 1, 2, 3, 4, 5, 6, 7], 'offset': 0, 'more_fragments': False, 'length': 8, 'id': 7}\n",
      ">>> {'payload': [0, 1, 2, 3, 4, 5, 6, 7], 'id': 7}\n",
      "\n",
      "buffer_dict = {}\n",
      "packet      = {'payload': [0, 1, 2, 3, 4, 5, 6, 7, 8, 9], 'offset': 0, 'more_fragments': True, 'length': 10, 'id': 8}\n",
      ">>> None\n",
      "\n",
      "buffer_dict = {8: [{'payload': [0, 1, 2, 3, 4, 5, 6, 7, 8, 9], 'offset': 0, 'more_fragments': True, 'length': 10, 'id': 8}]}\n",
      "packet      = {'payload': [10, 11], 'offset': 10, 'more_fragments': False, 'length': 2, 'id': 8}\n",
      ">>> {'payload': [0, 1, 2, 3, 4, 5, 6, 7, 8, 9, 10, 11], 'id': 8}\n",
      "\n",
      "buffer_dict = {}\n",
      "packet      = {'payload': [0, 1, 2, 3, 4], 'offset': 0, 'more_fragments': False, 'length': 5, 'id': 9}\n",
      ">>> {'payload': [0, 1, 2, 3, 4], 'id': 9}\n",
      "\n"
     ]
    }
   ],
   "source": [
    "combiner=PacketCombiner()\n",
    "for f in fragments:\n",
    "    print('>>>',combiner.process(f))\n",
    "    print()"
   ]
  },
  {
   "cell_type": "markdown",
   "metadata": {},
   "source": [
    "我们将分片列表打乱顺序，然后再看一下合并的效果。"
   ]
  },
  {
   "cell_type": "markdown",
   "metadata": {},
   "source": [
    "先把分片列表复制一份"
   ]
  },
  {
   "cell_type": "code",
   "execution_count": 61,
   "metadata": {
    "collapsed": true
   },
   "outputs": [],
   "source": [
    "frag_list=[r for r in fragments]"
   ]
  },
  {
   "cell_type": "code",
   "execution_count": 62,
   "metadata": {
    "scrolled": true
   },
   "outputs": [
    {
     "data": {
      "text/plain": [
       "[{'id': 0,\n",
       "  'length': 8,\n",
       "  'more_fragments': False,\n",
       "  'offset': 0,\n",
       "  'payload': [0, 1, 2, 3, 4, 5, 6, 7]},\n",
       " {'id': 1,\n",
       "  'length': 10,\n",
       "  'more_fragments': True,\n",
       "  'offset': 0,\n",
       "  'payload': [0, 1, 2, 3, 4, 5, 6, 7, 8, 9]},\n",
       " {'id': 1,\n",
       "  'length': 10,\n",
       "  'more_fragments': True,\n",
       "  'offset': 10,\n",
       "  'payload': [10, 11, 12, 13, 14, 15, 16, 17, 18, 19]},\n",
       " {'id': 1,\n",
       "  'length': 6,\n",
       "  'more_fragments': False,\n",
       "  'offset': 20,\n",
       "  'payload': [20, 21, 22, 23, 24, 25]},\n",
       " {'id': 2,\n",
       "  'length': 10,\n",
       "  'more_fragments': True,\n",
       "  'offset': 0,\n",
       "  'payload': [0, 1, 2, 3, 4, 5, 6, 7, 8, 9]},\n",
       " {'id': 2,\n",
       "  'length': 5,\n",
       "  'more_fragments': False,\n",
       "  'offset': 10,\n",
       "  'payload': [10, 11, 12, 13, 14]},\n",
       " {'id': 3,\n",
       "  'length': 10,\n",
       "  'more_fragments': True,\n",
       "  'offset': 0,\n",
       "  'payload': [0, 1, 2, 3, 4, 5, 6, 7, 8, 9]},\n",
       " {'id': 3,\n",
       "  'length': 9,\n",
       "  'more_fragments': False,\n",
       "  'offset': 10,\n",
       "  'payload': [10, 11, 12, 13, 14, 15, 16, 17, 18]},\n",
       " {'id': 4,\n",
       "  'length': 10,\n",
       "  'more_fragments': True,\n",
       "  'offset': 0,\n",
       "  'payload': [0, 1, 2, 3, 4, 5, 6, 7, 8, 9]},\n",
       " {'id': 4,\n",
       "  'length': 1,\n",
       "  'more_fragments': False,\n",
       "  'offset': 10,\n",
       "  'payload': [10]},\n",
       " {'id': 5,\n",
       "  'length': 10,\n",
       "  'more_fragments': True,\n",
       "  'offset': 0,\n",
       "  'payload': [0, 1, 2, 3, 4, 5, 6, 7, 8, 9]},\n",
       " {'id': 5,\n",
       "  'length': 10,\n",
       "  'more_fragments': True,\n",
       "  'offset': 10,\n",
       "  'payload': [10, 11, 12, 13, 14, 15, 16, 17, 18, 19]},\n",
       " {'id': 5,\n",
       "  'length': 10,\n",
       "  'more_fragments': False,\n",
       "  'offset': 20,\n",
       "  'payload': [20, 21, 22, 23, 24, 25, 26, 27, 28, 29]},\n",
       " {'id': 6,\n",
       "  'length': 10,\n",
       "  'more_fragments': True,\n",
       "  'offset': 0,\n",
       "  'payload': [0, 1, 2, 3, 4, 5, 6, 7, 8, 9]},\n",
       " {'id': 6,\n",
       "  'length': 10,\n",
       "  'more_fragments': True,\n",
       "  'offset': 10,\n",
       "  'payload': [10, 11, 12, 13, 14, 15, 16, 17, 18, 19]},\n",
       " {'id': 6,\n",
       "  'length': 3,\n",
       "  'more_fragments': False,\n",
       "  'offset': 20,\n",
       "  'payload': [20, 21, 22]},\n",
       " {'id': 7,\n",
       "  'length': 8,\n",
       "  'more_fragments': False,\n",
       "  'offset': 0,\n",
       "  'payload': [0, 1, 2, 3, 4, 5, 6, 7]},\n",
       " {'id': 8,\n",
       "  'length': 10,\n",
       "  'more_fragments': True,\n",
       "  'offset': 0,\n",
       "  'payload': [0, 1, 2, 3, 4, 5, 6, 7, 8, 9]},\n",
       " {'id': 8,\n",
       "  'length': 2,\n",
       "  'more_fragments': False,\n",
       "  'offset': 10,\n",
       "  'payload': [10, 11]},\n",
       " {'id': 9,\n",
       "  'length': 5,\n",
       "  'more_fragments': False,\n",
       "  'offset': 0,\n",
       "  'payload': [0, 1, 2, 3, 4]}]"
      ]
     },
     "execution_count": 62,
     "metadata": {},
     "output_type": "execute_result"
    }
   ],
   "source": [
    "frag_list"
   ]
  },
  {
   "cell_type": "code",
   "execution_count": 63,
   "metadata": {
    "collapsed": true
   },
   "outputs": [],
   "source": [
    "import random\n",
    "random.shuffle(frag_list)"
   ]
  },
  {
   "cell_type": "code",
   "execution_count": 64,
   "metadata": {
    "scrolled": true
   },
   "outputs": [
    {
     "data": {
      "text/plain": [
       "[{'id': 6,\n",
       "  'length': 3,\n",
       "  'more_fragments': False,\n",
       "  'offset': 20,\n",
       "  'payload': [20, 21, 22]},\n",
       " {'id': 9,\n",
       "  'length': 5,\n",
       "  'more_fragments': False,\n",
       "  'offset': 0,\n",
       "  'payload': [0, 1, 2, 3, 4]},\n",
       " {'id': 8,\n",
       "  'length': 10,\n",
       "  'more_fragments': True,\n",
       "  'offset': 0,\n",
       "  'payload': [0, 1, 2, 3, 4, 5, 6, 7, 8, 9]},\n",
       " {'id': 1,\n",
       "  'length': 6,\n",
       "  'more_fragments': False,\n",
       "  'offset': 20,\n",
       "  'payload': [20, 21, 22, 23, 24, 25]},\n",
       " {'id': 5,\n",
       "  'length': 10,\n",
       "  'more_fragments': True,\n",
       "  'offset': 10,\n",
       "  'payload': [10, 11, 12, 13, 14, 15, 16, 17, 18, 19]},\n",
       " {'id': 5,\n",
       "  'length': 10,\n",
       "  'more_fragments': True,\n",
       "  'offset': 0,\n",
       "  'payload': [0, 1, 2, 3, 4, 5, 6, 7, 8, 9]},\n",
       " {'id': 4,\n",
       "  'length': 10,\n",
       "  'more_fragments': True,\n",
       "  'offset': 0,\n",
       "  'payload': [0, 1, 2, 3, 4, 5, 6, 7, 8, 9]},\n",
       " {'id': 6,\n",
       "  'length': 10,\n",
       "  'more_fragments': True,\n",
       "  'offset': 10,\n",
       "  'payload': [10, 11, 12, 13, 14, 15, 16, 17, 18, 19]},\n",
       " {'id': 3,\n",
       "  'length': 10,\n",
       "  'more_fragments': True,\n",
       "  'offset': 0,\n",
       "  'payload': [0, 1, 2, 3, 4, 5, 6, 7, 8, 9]},\n",
       " {'id': 2,\n",
       "  'length': 10,\n",
       "  'more_fragments': True,\n",
       "  'offset': 0,\n",
       "  'payload': [0, 1, 2, 3, 4, 5, 6, 7, 8, 9]},\n",
       " {'id': 7,\n",
       "  'length': 8,\n",
       "  'more_fragments': False,\n",
       "  'offset': 0,\n",
       "  'payload': [0, 1, 2, 3, 4, 5, 6, 7]},\n",
       " {'id': 2,\n",
       "  'length': 5,\n",
       "  'more_fragments': False,\n",
       "  'offset': 10,\n",
       "  'payload': [10, 11, 12, 13, 14]},\n",
       " {'id': 1,\n",
       "  'length': 10,\n",
       "  'more_fragments': True,\n",
       "  'offset': 10,\n",
       "  'payload': [10, 11, 12, 13, 14, 15, 16, 17, 18, 19]},\n",
       " {'id': 0,\n",
       "  'length': 8,\n",
       "  'more_fragments': False,\n",
       "  'offset': 0,\n",
       "  'payload': [0, 1, 2, 3, 4, 5, 6, 7]},\n",
       " {'id': 5,\n",
       "  'length': 10,\n",
       "  'more_fragments': False,\n",
       "  'offset': 20,\n",
       "  'payload': [20, 21, 22, 23, 24, 25, 26, 27, 28, 29]},\n",
       " {'id': 6,\n",
       "  'length': 10,\n",
       "  'more_fragments': True,\n",
       "  'offset': 0,\n",
       "  'payload': [0, 1, 2, 3, 4, 5, 6, 7, 8, 9]},\n",
       " {'id': 4,\n",
       "  'length': 1,\n",
       "  'more_fragments': False,\n",
       "  'offset': 10,\n",
       "  'payload': [10]},\n",
       " {'id': 8,\n",
       "  'length': 2,\n",
       "  'more_fragments': False,\n",
       "  'offset': 10,\n",
       "  'payload': [10, 11]},\n",
       " {'id': 1,\n",
       "  'length': 10,\n",
       "  'more_fragments': True,\n",
       "  'offset': 0,\n",
       "  'payload': [0, 1, 2, 3, 4, 5, 6, 7, 8, 9]},\n",
       " {'id': 3,\n",
       "  'length': 9,\n",
       "  'more_fragments': False,\n",
       "  'offset': 10,\n",
       "  'payload': [10, 11, 12, 13, 14, 15, 16, 17, 18]}]"
      ]
     },
     "execution_count": 64,
     "metadata": {},
     "output_type": "execute_result"
    }
   ],
   "source": [
    "frag_list"
   ]
  },
  {
   "cell_type": "code",
   "execution_count": 65,
   "metadata": {
    "scrolled": false
   },
   "outputs": [
    {
     "name": "stdout",
     "output_type": "stream",
     "text": [
      "buffer_dict = {}\n",
      "packet      = {'payload': [20, 21, 22], 'offset': 20, 'more_fragments': False, 'length': 3, 'id': 6}\n",
      ">>> None\n",
      "\n",
      "buffer_dict = {6: [{'payload': [20, 21, 22], 'offset': 20, 'more_fragments': False, 'length': 3, 'id': 6}]}\n",
      "packet      = {'payload': [0, 1, 2, 3, 4], 'offset': 0, 'more_fragments': False, 'length': 5, 'id': 9}\n",
      ">>> {'payload': [0, 1, 2, 3, 4], 'id': 9}\n",
      "\n",
      "buffer_dict = {6: [{'payload': [20, 21, 22], 'offset': 20, 'more_fragments': False, 'length': 3, 'id': 6}]}\n",
      "packet      = {'payload': [0, 1, 2, 3, 4, 5, 6, 7, 8, 9], 'offset': 0, 'more_fragments': True, 'length': 10, 'id': 8}\n",
      ">>> None\n",
      "\n",
      "buffer_dict = {8: [{'payload': [0, 1, 2, 3, 4, 5, 6, 7, 8, 9], 'offset': 0, 'more_fragments': True, 'length': 10, 'id': 8}], 6: [{'payload': [20, 21, 22], 'offset': 20, 'more_fragments': False, 'length': 3, 'id': 6}]}\n",
      "packet      = {'payload': [20, 21, 22, 23, 24, 25], 'offset': 20, 'more_fragments': False, 'length': 6, 'id': 1}\n",
      ">>> None\n",
      "\n",
      "buffer_dict = {8: [{'payload': [0, 1, 2, 3, 4, 5, 6, 7, 8, 9], 'offset': 0, 'more_fragments': True, 'length': 10, 'id': 8}], 1: [{'payload': [20, 21, 22, 23, 24, 25], 'offset': 20, 'more_fragments': False, 'length': 6, 'id': 1}], 6: [{'payload': [20, 21, 22], 'offset': 20, 'more_fragments': False, 'length': 3, 'id': 6}]}\n",
      "packet      = {'payload': [10, 11, 12, 13, 14, 15, 16, 17, 18, 19], 'offset': 10, 'more_fragments': True, 'length': 10, 'id': 5}\n",
      ">>> None\n",
      "\n",
      "buffer_dict = {8: [{'payload': [0, 1, 2, 3, 4, 5, 6, 7, 8, 9], 'offset': 0, 'more_fragments': True, 'length': 10, 'id': 8}], 1: [{'payload': [20, 21, 22, 23, 24, 25], 'offset': 20, 'more_fragments': False, 'length': 6, 'id': 1}], 5: [{'payload': [10, 11, 12, 13, 14, 15, 16, 17, 18, 19], 'offset': 10, 'more_fragments': True, 'length': 10, 'id': 5}], 6: [{'payload': [20, 21, 22], 'offset': 20, 'more_fragments': False, 'length': 3, 'id': 6}]}\n",
      "packet      = {'payload': [0, 1, 2, 3, 4, 5, 6, 7, 8, 9], 'offset': 0, 'more_fragments': True, 'length': 10, 'id': 5}\n",
      ">>> None\n",
      "\n",
      "buffer_dict = {8: [{'payload': [0, 1, 2, 3, 4, 5, 6, 7, 8, 9], 'offset': 0, 'more_fragments': True, 'length': 10, 'id': 8}], 1: [{'payload': [20, 21, 22, 23, 24, 25], 'offset': 20, 'more_fragments': False, 'length': 6, 'id': 1}], 5: [{'payload': [0, 1, 2, 3, 4, 5, 6, 7, 8, 9], 'offset': 0, 'more_fragments': True, 'length': 10, 'id': 5}, {'payload': [10, 11, 12, 13, 14, 15, 16, 17, 18, 19], 'offset': 10, 'more_fragments': True, 'length': 10, 'id': 5}], 6: [{'payload': [20, 21, 22], 'offset': 20, 'more_fragments': False, 'length': 3, 'id': 6}]}\n",
      "packet      = {'payload': [0, 1, 2, 3, 4, 5, 6, 7, 8, 9], 'offset': 0, 'more_fragments': True, 'length': 10, 'id': 4}\n",
      ">>> None\n",
      "\n",
      "buffer_dict = {8: [{'payload': [0, 1, 2, 3, 4, 5, 6, 7, 8, 9], 'offset': 0, 'more_fragments': True, 'length': 10, 'id': 8}], 1: [{'payload': [20, 21, 22, 23, 24, 25], 'offset': 20, 'more_fragments': False, 'length': 6, 'id': 1}], 4: [{'payload': [0, 1, 2, 3, 4, 5, 6, 7, 8, 9], 'offset': 0, 'more_fragments': True, 'length': 10, 'id': 4}], 5: [{'payload': [0, 1, 2, 3, 4, 5, 6, 7, 8, 9], 'offset': 0, 'more_fragments': True, 'length': 10, 'id': 5}, {'payload': [10, 11, 12, 13, 14, 15, 16, 17, 18, 19], 'offset': 10, 'more_fragments': True, 'length': 10, 'id': 5}], 6: [{'payload': [20, 21, 22], 'offset': 20, 'more_fragments': False, 'length': 3, 'id': 6}]}\n",
      "packet      = {'payload': [10, 11, 12, 13, 14, 15, 16, 17, 18, 19], 'offset': 10, 'more_fragments': True, 'length': 10, 'id': 6}\n",
      ">>> None\n",
      "\n",
      "buffer_dict = {8: [{'payload': [0, 1, 2, 3, 4, 5, 6, 7, 8, 9], 'offset': 0, 'more_fragments': True, 'length': 10, 'id': 8}], 1: [{'payload': [20, 21, 22, 23, 24, 25], 'offset': 20, 'more_fragments': False, 'length': 6, 'id': 1}], 4: [{'payload': [0, 1, 2, 3, 4, 5, 6, 7, 8, 9], 'offset': 0, 'more_fragments': True, 'length': 10, 'id': 4}], 5: [{'payload': [0, 1, 2, 3, 4, 5, 6, 7, 8, 9], 'offset': 0, 'more_fragments': True, 'length': 10, 'id': 5}, {'payload': [10, 11, 12, 13, 14, 15, 16, 17, 18, 19], 'offset': 10, 'more_fragments': True, 'length': 10, 'id': 5}], 6: [{'payload': [10, 11, 12, 13, 14, 15, 16, 17, 18, 19], 'offset': 10, 'more_fragments': True, 'length': 10, 'id': 6}, {'payload': [20, 21, 22], 'offset': 20, 'more_fragments': False, 'length': 3, 'id': 6}]}\n",
      "packet      = {'payload': [0, 1, 2, 3, 4, 5, 6, 7, 8, 9], 'offset': 0, 'more_fragments': True, 'length': 10, 'id': 3}\n",
      ">>> None\n",
      "\n",
      "buffer_dict = {1: [{'payload': [20, 21, 22, 23, 24, 25], 'offset': 20, 'more_fragments': False, 'length': 6, 'id': 1}], 3: [{'payload': [0, 1, 2, 3, 4, 5, 6, 7, 8, 9], 'offset': 0, 'more_fragments': True, 'length': 10, 'id': 3}], 4: [{'payload': [0, 1, 2, 3, 4, 5, 6, 7, 8, 9], 'offset': 0, 'more_fragments': True, 'length': 10, 'id': 4}], 5: [{'payload': [0, 1, 2, 3, 4, 5, 6, 7, 8, 9], 'offset': 0, 'more_fragments': True, 'length': 10, 'id': 5}, {'payload': [10, 11, 12, 13, 14, 15, 16, 17, 18, 19], 'offset': 10, 'more_fragments': True, 'length': 10, 'id': 5}], 6: [{'payload': [10, 11, 12, 13, 14, 15, 16, 17, 18, 19], 'offset': 10, 'more_fragments': True, 'length': 10, 'id': 6}, {'payload': [20, 21, 22], 'offset': 20, 'more_fragments': False, 'length': 3, 'id': 6}], 8: [{'payload': [0, 1, 2, 3, 4, 5, 6, 7, 8, 9], 'offset': 0, 'more_fragments': True, 'length': 10, 'id': 8}]}\n",
      "packet      = {'payload': [0, 1, 2, 3, 4, 5, 6, 7, 8, 9], 'offset': 0, 'more_fragments': True, 'length': 10, 'id': 2}\n",
      ">>> None\n",
      "\n",
      "buffer_dict = {1: [{'payload': [20, 21, 22, 23, 24, 25], 'offset': 20, 'more_fragments': False, 'length': 6, 'id': 1}], 2: [{'payload': [0, 1, 2, 3, 4, 5, 6, 7, 8, 9], 'offset': 0, 'more_fragments': True, 'length': 10, 'id': 2}], 3: [{'payload': [0, 1, 2, 3, 4, 5, 6, 7, 8, 9], 'offset': 0, 'more_fragments': True, 'length': 10, 'id': 3}], 4: [{'payload': [0, 1, 2, 3, 4, 5, 6, 7, 8, 9], 'offset': 0, 'more_fragments': True, 'length': 10, 'id': 4}], 5: [{'payload': [0, 1, 2, 3, 4, 5, 6, 7, 8, 9], 'offset': 0, 'more_fragments': True, 'length': 10, 'id': 5}, {'payload': [10, 11, 12, 13, 14, 15, 16, 17, 18, 19], 'offset': 10, 'more_fragments': True, 'length': 10, 'id': 5}], 6: [{'payload': [10, 11, 12, 13, 14, 15, 16, 17, 18, 19], 'offset': 10, 'more_fragments': True, 'length': 10, 'id': 6}, {'payload': [20, 21, 22], 'offset': 20, 'more_fragments': False, 'length': 3, 'id': 6}], 8: [{'payload': [0, 1, 2, 3, 4, 5, 6, 7, 8, 9], 'offset': 0, 'more_fragments': True, 'length': 10, 'id': 8}]}\n",
      "packet      = {'payload': [0, 1, 2, 3, 4, 5, 6, 7], 'offset': 0, 'more_fragments': False, 'length': 8, 'id': 7}\n",
      ">>> {'payload': [0, 1, 2, 3, 4, 5, 6, 7], 'id': 7}\n",
      "\n",
      "buffer_dict = {1: [{'payload': [20, 21, 22, 23, 24, 25], 'offset': 20, 'more_fragments': False, 'length': 6, 'id': 1}], 2: [{'payload': [0, 1, 2, 3, 4, 5, 6, 7, 8, 9], 'offset': 0, 'more_fragments': True, 'length': 10, 'id': 2}], 3: [{'payload': [0, 1, 2, 3, 4, 5, 6, 7, 8, 9], 'offset': 0, 'more_fragments': True, 'length': 10, 'id': 3}], 4: [{'payload': [0, 1, 2, 3, 4, 5, 6, 7, 8, 9], 'offset': 0, 'more_fragments': True, 'length': 10, 'id': 4}], 5: [{'payload': [0, 1, 2, 3, 4, 5, 6, 7, 8, 9], 'offset': 0, 'more_fragments': True, 'length': 10, 'id': 5}, {'payload': [10, 11, 12, 13, 14, 15, 16, 17, 18, 19], 'offset': 10, 'more_fragments': True, 'length': 10, 'id': 5}], 6: [{'payload': [10, 11, 12, 13, 14, 15, 16, 17, 18, 19], 'offset': 10, 'more_fragments': True, 'length': 10, 'id': 6}, {'payload': [20, 21, 22], 'offset': 20, 'more_fragments': False, 'length': 3, 'id': 6}], 8: [{'payload': [0, 1, 2, 3, 4, 5, 6, 7, 8, 9], 'offset': 0, 'more_fragments': True, 'length': 10, 'id': 8}]}\n",
      "packet      = {'payload': [10, 11, 12, 13, 14], 'offset': 10, 'more_fragments': False, 'length': 5, 'id': 2}\n",
      ">>> {'payload': [0, 1, 2, 3, 4, 5, 6, 7, 8, 9, 10, 11, 12, 13, 14], 'id': 2}\n",
      "\n",
      "buffer_dict = {1: [{'payload': [20, 21, 22, 23, 24, 25], 'offset': 20, 'more_fragments': False, 'length': 6, 'id': 1}], 3: [{'payload': [0, 1, 2, 3, 4, 5, 6, 7, 8, 9], 'offset': 0, 'more_fragments': True, 'length': 10, 'id': 3}], 4: [{'payload': [0, 1, 2, 3, 4, 5, 6, 7, 8, 9], 'offset': 0, 'more_fragments': True, 'length': 10, 'id': 4}], 5: [{'payload': [0, 1, 2, 3, 4, 5, 6, 7, 8, 9], 'offset': 0, 'more_fragments': True, 'length': 10, 'id': 5}, {'payload': [10, 11, 12, 13, 14, 15, 16, 17, 18, 19], 'offset': 10, 'more_fragments': True, 'length': 10, 'id': 5}], 6: [{'payload': [10, 11, 12, 13, 14, 15, 16, 17, 18, 19], 'offset': 10, 'more_fragments': True, 'length': 10, 'id': 6}, {'payload': [20, 21, 22], 'offset': 20, 'more_fragments': False, 'length': 3, 'id': 6}], 8: [{'payload': [0, 1, 2, 3, 4, 5, 6, 7, 8, 9], 'offset': 0, 'more_fragments': True, 'length': 10, 'id': 8}]}\n",
      "packet      = {'payload': [10, 11, 12, 13, 14, 15, 16, 17, 18, 19], 'offset': 10, 'more_fragments': True, 'length': 10, 'id': 1}\n",
      ">>> None\n",
      "\n",
      "buffer_dict = {1: [{'payload': [10, 11, 12, 13, 14, 15, 16, 17, 18, 19], 'offset': 10, 'more_fragments': True, 'length': 10, 'id': 1}, {'payload': [20, 21, 22, 23, 24, 25], 'offset': 20, 'more_fragments': False, 'length': 6, 'id': 1}], 3: [{'payload': [0, 1, 2, 3, 4, 5, 6, 7, 8, 9], 'offset': 0, 'more_fragments': True, 'length': 10, 'id': 3}], 4: [{'payload': [0, 1, 2, 3, 4, 5, 6, 7, 8, 9], 'offset': 0, 'more_fragments': True, 'length': 10, 'id': 4}], 5: [{'payload': [0, 1, 2, 3, 4, 5, 6, 7, 8, 9], 'offset': 0, 'more_fragments': True, 'length': 10, 'id': 5}, {'payload': [10, 11, 12, 13, 14, 15, 16, 17, 18, 19], 'offset': 10, 'more_fragments': True, 'length': 10, 'id': 5}], 6: [{'payload': [10, 11, 12, 13, 14, 15, 16, 17, 18, 19], 'offset': 10, 'more_fragments': True, 'length': 10, 'id': 6}, {'payload': [20, 21, 22], 'offset': 20, 'more_fragments': False, 'length': 3, 'id': 6}], 8: [{'payload': [0, 1, 2, 3, 4, 5, 6, 7, 8, 9], 'offset': 0, 'more_fragments': True, 'length': 10, 'id': 8}]}\n",
      "packet      = {'payload': [0, 1, 2, 3, 4, 5, 6, 7], 'offset': 0, 'more_fragments': False, 'length': 8, 'id': 0}\n",
      ">>> {'payload': [0, 1, 2, 3, 4, 5, 6, 7], 'id': 0}\n",
      "\n",
      "buffer_dict = {1: [{'payload': [10, 11, 12, 13, 14, 15, 16, 17, 18, 19], 'offset': 10, 'more_fragments': True, 'length': 10, 'id': 1}, {'payload': [20, 21, 22, 23, 24, 25], 'offset': 20, 'more_fragments': False, 'length': 6, 'id': 1}], 3: [{'payload': [0, 1, 2, 3, 4, 5, 6, 7, 8, 9], 'offset': 0, 'more_fragments': True, 'length': 10, 'id': 3}], 4: [{'payload': [0, 1, 2, 3, 4, 5, 6, 7, 8, 9], 'offset': 0, 'more_fragments': True, 'length': 10, 'id': 4}], 5: [{'payload': [0, 1, 2, 3, 4, 5, 6, 7, 8, 9], 'offset': 0, 'more_fragments': True, 'length': 10, 'id': 5}, {'payload': [10, 11, 12, 13, 14, 15, 16, 17, 18, 19], 'offset': 10, 'more_fragments': True, 'length': 10, 'id': 5}], 6: [{'payload': [10, 11, 12, 13, 14, 15, 16, 17, 18, 19], 'offset': 10, 'more_fragments': True, 'length': 10, 'id': 6}, {'payload': [20, 21, 22], 'offset': 20, 'more_fragments': False, 'length': 3, 'id': 6}], 8: [{'payload': [0, 1, 2, 3, 4, 5, 6, 7, 8, 9], 'offset': 0, 'more_fragments': True, 'length': 10, 'id': 8}]}\n",
      "packet      = {'payload': [20, 21, 22, 23, 24, 25, 26, 27, 28, 29], 'offset': 20, 'more_fragments': False, 'length': 10, 'id': 5}\n",
      ">>> {'payload': [0, 1, 2, 3, 4, 5, 6, 7, 8, 9, 10, 11, 12, 13, 14, 15, 16, 17, 18, 19, 20, 21, 22, 23, 24, 25, 26, 27, 28, 29], 'id': 5}\n",
      "\n",
      "buffer_dict = {8: [{'payload': [0, 1, 2, 3, 4, 5, 6, 7, 8, 9], 'offset': 0, 'more_fragments': True, 'length': 10, 'id': 8}], 1: [{'payload': [10, 11, 12, 13, 14, 15, 16, 17, 18, 19], 'offset': 10, 'more_fragments': True, 'length': 10, 'id': 1}, {'payload': [20, 21, 22, 23, 24, 25], 'offset': 20, 'more_fragments': False, 'length': 6, 'id': 1}], 3: [{'payload': [0, 1, 2, 3, 4, 5, 6, 7, 8, 9], 'offset': 0, 'more_fragments': True, 'length': 10, 'id': 3}], 4: [{'payload': [0, 1, 2, 3, 4, 5, 6, 7, 8, 9], 'offset': 0, 'more_fragments': True, 'length': 10, 'id': 4}], 6: [{'payload': [10, 11, 12, 13, 14, 15, 16, 17, 18, 19], 'offset': 10, 'more_fragments': True, 'length': 10, 'id': 6}, {'payload': [20, 21, 22], 'offset': 20, 'more_fragments': False, 'length': 3, 'id': 6}]}\n",
      "packet      = {'payload': [0, 1, 2, 3, 4, 5, 6, 7, 8, 9], 'offset': 0, 'more_fragments': True, 'length': 10, 'id': 6}\n",
      ">>> {'payload': [0, 1, 2, 3, 4, 5, 6, 7, 8, 9, 10, 11, 12, 13, 14, 15, 16, 17, 18, 19, 20, 21, 22], 'id': 6}\n",
      "\n",
      "buffer_dict = {8: [{'payload': [0, 1, 2, 3, 4, 5, 6, 7, 8, 9], 'offset': 0, 'more_fragments': True, 'length': 10, 'id': 8}], 1: [{'payload': [10, 11, 12, 13, 14, 15, 16, 17, 18, 19], 'offset': 10, 'more_fragments': True, 'length': 10, 'id': 1}, {'payload': [20, 21, 22, 23, 24, 25], 'offset': 20, 'more_fragments': False, 'length': 6, 'id': 1}], 3: [{'payload': [0, 1, 2, 3, 4, 5, 6, 7, 8, 9], 'offset': 0, 'more_fragments': True, 'length': 10, 'id': 3}], 4: [{'payload': [0, 1, 2, 3, 4, 5, 6, 7, 8, 9], 'offset': 0, 'more_fragments': True, 'length': 10, 'id': 4}]}\n",
      "packet      = {'payload': [10], 'offset': 10, 'more_fragments': False, 'length': 1, 'id': 4}\n",
      ">>> {'payload': [0, 1, 2, 3, 4, 5, 6, 7, 8, 9, 10], 'id': 4}\n",
      "\n",
      "buffer_dict = {8: [{'payload': [0, 1, 2, 3, 4, 5, 6, 7, 8, 9], 'offset': 0, 'more_fragments': True, 'length': 10, 'id': 8}], 1: [{'payload': [10, 11, 12, 13, 14, 15, 16, 17, 18, 19], 'offset': 10, 'more_fragments': True, 'length': 10, 'id': 1}, {'payload': [20, 21, 22, 23, 24, 25], 'offset': 20, 'more_fragments': False, 'length': 6, 'id': 1}], 3: [{'payload': [0, 1, 2, 3, 4, 5, 6, 7, 8, 9], 'offset': 0, 'more_fragments': True, 'length': 10, 'id': 3}]}\n",
      "packet      = {'payload': [10, 11], 'offset': 10, 'more_fragments': False, 'length': 2, 'id': 8}\n",
      ">>> {'payload': [0, 1, 2, 3, 4, 5, 6, 7, 8, 9, 10, 11], 'id': 8}\n",
      "\n",
      "buffer_dict = {1: [{'payload': [10, 11, 12, 13, 14, 15, 16, 17, 18, 19], 'offset': 10, 'more_fragments': True, 'length': 10, 'id': 1}, {'payload': [20, 21, 22, 23, 24, 25], 'offset': 20, 'more_fragments': False, 'length': 6, 'id': 1}], 3: [{'payload': [0, 1, 2, 3, 4, 5, 6, 7, 8, 9], 'offset': 0, 'more_fragments': True, 'length': 10, 'id': 3}]}\n",
      "packet      = {'payload': [0, 1, 2, 3, 4, 5, 6, 7, 8, 9], 'offset': 0, 'more_fragments': True, 'length': 10, 'id': 1}\n",
      ">>> {'payload': [0, 1, 2, 3, 4, 5, 6, 7, 8, 9, 10, 11, 12, 13, 14, 15, 16, 17, 18, 19, 20, 21, 22, 23, 24, 25], 'id': 1}\n",
      "\n",
      "buffer_dict = {3: [{'payload': [0, 1, 2, 3, 4, 5, 6, 7, 8, 9], 'offset': 0, 'more_fragments': True, 'length': 10, 'id': 3}]}\n",
      "packet      = {'payload': [10, 11, 12, 13, 14, 15, 16, 17, 18], 'offset': 10, 'more_fragments': False, 'length': 9, 'id': 3}\n",
      ">>> {'payload': [0, 1, 2, 3, 4, 5, 6, 7, 8, 9, 10, 11, 12, 13, 14, 15, 16, 17, 18], 'id': 3}\n",
      "\n"
     ]
    }
   ],
   "source": [
    "combiner2=PacketCombiner()\n",
    "for f in frag_list:\n",
    "    print('>>>',combiner2.process(f))\n",
    "    print()"
   ]
  },
  {
   "cell_type": "markdown",
   "metadata": {
    "collapsed": true
   },
   "source": [
    "可以看到，我们成功地合并了所有分片，已经可以处理乱序数据了。  \n",
    "还可以对这个类做进一步改进，比如说：去掉重复的数据包，定期清除buffer中超时的数据包，等等。这个话题留作以后探讨。"
   ]
  },
  {
   "cell_type": "markdown",
   "metadata": {},
   "source": [
    "## 习题6：使用matplotlib绘图"
   ]
  },
  {
   "cell_type": "markdown",
   "metadata": {},
   "source": [
    "绘制函数 $z = f(x,y) = a \\cdot x \\cdot e^{-x^2-y^2}, x,y \\in [-3,3]$ 的3D图形"
   ]
  },
  {
   "cell_type": "markdown",
   "metadata": {},
   "source": [
    "<img src=\"img/ex6.png\" width=\"50%\">"
   ]
  },
  {
   "cell_type": "code",
   "execution_count": 5,
   "metadata": {},
   "outputs": [],
   "source": [
    "import numpy as np\n",
    "import matplotlib.pyplot as plt\n",
    "from mpl_toolkits.mplot3d import Axes3D\n",
    "from matplotlib import cm\n",
    "from matplotlib.ticker import LinearLocator, FormatStrFormatter\n",
    "\n",
    "%matplotlib inline"
   ]
  },
  {
   "cell_type": "code",
   "execution_count": 7,
   "metadata": {},
   "outputs": [],
   "source": [
    "def function_001(x,y):\n",
    "    # \n",
    "    # 在此处补全代码，根据x和y算出并返回z\n",
    "    # \n",
    "    return x * np.exp( -x**2-y**2)"
   ]
  },
  {
   "cell_type": "code",
   "execution_count": 10,
   "metadata": {},
   "outputs": [
    {
     "data": {
      "image/png": "[encoded data removed]",
      "text/plain": [
       "<Figure size 432x288 with 1 Axes>"
      ]
     },
     "metadata": {
      "needs_background": "light"
     },
     "output_type": "display_data"
    }
   ],
   "source": [
    "# \n",
    "# 在此处补全代码，定义x和y，并算出z，numpy里的linspace和meshgrid非常好用\n",
    "#\n",
    "fig = plt.figure()\n",
    "ax = Axes3D(fig)\n",
    "\n",
    "X = np.arange(-3,3,0.1)\n",
    "Y = np.arange(-3,3,0.1)\n",
    "X,Y = np.meshgrid(X,Y)\n",
    "Z = function_001(X,Y)\n",
    "\n",
    "surf = ax.plot_surface(X,Y,Z,cmap=cm.coolwarm,linewidth=0,antialiased=False)\n",
    "#fig.colorbar(surf, shrink=0.5, aspect=5)\n",
    "\n",
    "plt.show()"
   ]
  },
  {
   "cell_type": "code",
   "execution_count": 103,
   "metadata": {},
   "outputs": [],
   "source": [
    "# \n",
    "# 在此处补全代码，绘制出3D曲面\n",
    "#\n",
    "#surf = ax.plot_surface(X,Y,Z,cmap=cm.coolwarm,linewidth=0,antialiased=False)\n",
    "#ax.set_zlim(-1.01, 1.01)\n",
    "#ax.zaxis.set_major_locator(LinearLocator(10))\n",
    "#ax.zaxis.set_major_formatter(FormatStrFormatter('%.02f'))\n",
    "\n",
    "#fig.colorbar(surf, shrink=0.5, aspect=5)\n",
    "\n",
    "#plt.show()\n",
    "\n",
    "#ax.scatter(X,Y,Z)\n",
    "\n"
   ]
  },
  {
   "cell_type": "code",
   "execution_count": null,
   "metadata": {
    "collapsed": true
   },
   "outputs": [],
   "source": []
  }
 ],
 "metadata": {
  "kernelspec": {
   "display_name": "Python 3",
   "language": "python",
   "name": "python3"
  },
  "language_info": {
   "codemirror_mode": {
    "name": "ipython",
    "version": 3
   },
   "file_extension": ".py",
   "mimetype": "text/x-python",
   "name": "python",
   "nbconvert_exporter": "python",
   "pygments_lexer": "ipython3",
   "version": "3.7.3"
  }
 },
 "nbformat": 4,
 "nbformat_minor": 2
}
